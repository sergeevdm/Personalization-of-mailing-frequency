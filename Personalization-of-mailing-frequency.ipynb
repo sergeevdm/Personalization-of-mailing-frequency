{
 "cells": [
  {
   "cell_type": "markdown",
   "metadata": {},
   "source": [
    "# Проект для крупного производителя одежды"
   ]
  },
  {
   "cell_type": "markdown",
   "metadata": {},
   "source": [
    "## Цель: персонализация частоты рассылок"
   ]
  },
  {
   "cell_type": "markdown",
   "metadata": {},
   "source": [
    "## Описание проекта\n",
    "\n",
    "**Ожидаемый бизнес-результат:** клиенты с превышением лимита по отправкам будут изыматься и таргета.\n",
    "Со временем в него возвращаться. При этом они не будут терять интерес к рассылкам , меньше будут\n",
    "отписываться, будут дольше оставаться в программе.\n",
    "\n",
    "### Задачи\n",
    "\n",
    "1. Определить оптимальную частоту рассылок на уровне клиента для минимизации рисков по оттоку, в\n",
    "т.ч. пассивному оттоку, без снижения моментального траффика/продаж. Второе в приоритете.\n",
    "\n",
    "2. Проверить гипотезы\n",
    " - Гипотеза о “пассивной отписке”: когда человеку показалось, что ему пишут слишком много, и он просто перестает открывать рассылки, хоть и не готов отписываться\n",
    " - Клиент совершает покупку и какое-то время теряет интерес к новостным рассылкам, во всяком случае рассылки на пользователя не генерят продажи\n",
    "\n",
    "### Декомпозиция проекта.\n",
    "\n",
    "### Шаг 1. Загрузка данных и предобработка данных\n",
    "\n",
    "- проверим в данных пропуски, типы, аномалии, дубликаты, наименования колонок\n",
    "\n",
    "### Шаг 2. Исследовательский анализ данных (EDA)\n",
    "\n",
    " - Посмотрим на датасет: есть ли в нем отсутствующие признаки, изучим средние значения и стандартные отклонения и прочее;\n",
    " - Выясним нужно ли бороться с выбросами;\n",
    "\n",
    "### Шаг 3. Формулировка и проверка статистических гипотез. Ответы на вопросы заказчика\n",
    "\n",
    "- Определение оптимальной частоты рассылок на уровне клиента для минимизации рисков по оттоку, в т.ч. пассивному оттоку, без снижения моментального траффика/продаж. \n",
    "- Гипотеза о “пассивной отписке”: когда человеку показалось, что ему пишут слишком много, и он просто перестает открывать рассылки, хоть и не готов отписываться\n",
    "- Гипотеза - Клиент совершает покупку и какое-то время теряет интерес к новостным рассылкам, во всяком случае рассылки на пользователя не генерят продажи\n",
    "- Кластеризация клиентов\n",
    "\n",
    "### Шаг. 4. Презентация и оформление проекта\n",
    "\n",
    "- общие выводы;\n",
    "- вкладка readme : как читать таблицу;\n",
    "- вкладка с таблицей: идентификатор клиента – рекомендуемое количество кампаний в месяц. Отметить, если количество кампаний выше среднего.\n",
    "\n",
    "*Презентация:*\n",
    "\n",
    "- Ответы на вопросы заказчика\n",
    "- Подробное описание методологии расчёта количества рассылок\n",
    "- Ссылка на таблицу в Google Sheets\n",
    "- Выводы и рекомендации\n"
   ]
  },
  {
   "cell_type": "markdown",
   "metadata": {},
   "source": [
    "### Шаг 1. Загрузка данных и предоработка данных"
   ]
  },
  {
   "cell_type": "code",
   "execution_count": 1,
   "metadata": {},
   "outputs": [],
   "source": [
    "import pandas as pd\n",
    "import tqdm\n",
    "from matplotlib import pyplot as plt\n",
    "import seaborn as sns\n",
    "import numpy as np\n",
    "import warnings\n",
    "\n",
    "# задействуем фичи, от ошибок при повторном использовании одного и того же df\n",
    "# и для отображения трёх символов после запятой для всех значений с плавающей запятой\n",
    "# малые финансовые переменные любят 2-3 значения после запятой \n",
    "warnings.filterwarnings(\"ignore\")\n",
    "pd.options.mode.chained_assignment = None\n",
    "pd.set_option('display.float_format', lambda x: '%.3f' % x)"
   ]
  },
  {
   "cell_type": "code",
   "execution_count": 2,
   "metadata": {},
   "outputs": [],
   "source": [
    "# загрузим датасеты \n",
    "path = 'C:/Users/PC/проекты Яндекс/Датасеты/'\n",
    "campaings = pd.read_excel(path + 'CAMPAIGNS JUL19.xlsx')\n",
    "engagement = pd.read_excel(path + 'ENGAGEMENTS_JUL19.xlsx')\n",
    "transactions = pd.read_excel(path + 'TRANSACTIONS JUL19.xlsx')\n",
    "members = pd.read_excel(path + 'MEMBS JUL19.xlsx')"
   ]
  },
  {
   "cell_type": "code",
   "execution_count": 3,
   "metadata": {},
   "outputs": [
    {
     "data": {
      "text/html": [
       "<div>\n",
       "<style scoped>\n",
       "    .dataframe tbody tr th:only-of-type {\n",
       "        vertical-align: middle;\n",
       "    }\n",
       "\n",
       "    .dataframe tbody tr th {\n",
       "        vertical-align: top;\n",
       "    }\n",
       "\n",
       "    .dataframe thead th {\n",
       "        text-align: right;\n",
       "    }\n",
       "</style>\n",
       "<table border=\"1\" class=\"dataframe\">\n",
       "  <thead>\n",
       "    <tr style=\"text-align: right;\">\n",
       "      <th></th>\n",
       "      <th>Campaign Delivery ID</th>\n",
       "      <th>Sent Date Hour ID</th>\n",
       "      <th>Sent</th>\n",
       "    </tr>\n",
       "  </thead>\n",
       "  <tbody>\n",
       "    <tr>\n",
       "      <th>0</th>\n",
       "      <td>643100000215092</td>\n",
       "      <td>2019-07-21 09:00:00</td>\n",
       "      <td>274</td>\n",
       "    </tr>\n",
       "    <tr>\n",
       "      <th>1</th>\n",
       "      <td>643100000248888</td>\n",
       "      <td>2019-08-06 09:00:00</td>\n",
       "      <td>2473</td>\n",
       "    </tr>\n",
       "    <tr>\n",
       "      <th>2</th>\n",
       "      <td>643100000248888</td>\n",
       "      <td>2019-08-09 09:00:00</td>\n",
       "      <td>6</td>\n",
       "    </tr>\n",
       "    <tr>\n",
       "      <th>3</th>\n",
       "      <td>643100000248888</td>\n",
       "      <td>2019-08-21 15:00:00</td>\n",
       "      <td>13</td>\n",
       "    </tr>\n",
       "    <tr>\n",
       "      <th>4</th>\n",
       "      <td>643100000248888</td>\n",
       "      <td>2019-08-30 14:00:00</td>\n",
       "      <td>23</td>\n",
       "    </tr>\n",
       "  </tbody>\n",
       "</table>\n",
       "</div>"
      ],
      "text/plain": [
       "   Campaign Delivery ID   Sent Date Hour ID  Sent\n",
       "0       643100000215092 2019-07-21 09:00:00   274\n",
       "1       643100000248888 2019-08-06 09:00:00  2473\n",
       "2       643100000248888 2019-08-09 09:00:00     6\n",
       "3       643100000248888 2019-08-21 15:00:00    13\n",
       "4       643100000248888 2019-08-30 14:00:00    23"
      ]
     },
     "execution_count": 3,
     "metadata": {},
     "output_type": "execute_result"
    }
   ],
   "source": [
    "campaings.head()"
   ]
  },
  {
   "cell_type": "code",
   "execution_count": 4,
   "metadata": {},
   "outputs": [
    {
     "data": {
      "text/plain": [
       "919493"
      ]
     },
     "execution_count": 4,
     "metadata": {},
     "output_type": "execute_result"
    }
   ],
   "source": [
    "campaings['Sent'].sum()"
   ]
  },
  {
   "cell_type": "markdown",
   "metadata": {},
   "source": [
    "**Таблица кампаний**\n",
    "\n",
    "`Campaign Delivery ID` - id кампаний\n",
    "\n",
    "`Sent Date Hour ID` - дата и время отправки\n",
    "\n",
    "`Sent` - !техническая колонка (можно игнорировать)"
   ]
  },
  {
   "cell_type": "code",
   "execution_count": 5,
   "metadata": {},
   "outputs": [
    {
     "data": {
      "text/html": [
       "<div>\n",
       "<style scoped>\n",
       "    .dataframe tbody tr th:only-of-type {\n",
       "        vertical-align: middle;\n",
       "    }\n",
       "\n",
       "    .dataframe tbody tr th {\n",
       "        vertical-align: top;\n",
       "    }\n",
       "\n",
       "    .dataframe thead th {\n",
       "        text-align: right;\n",
       "    }\n",
       "</style>\n",
       "<table border=\"1\" class=\"dataframe\">\n",
       "  <thead>\n",
       "    <tr style=\"text-align: right;\">\n",
       "      <th></th>\n",
       "      <th>Consumer SEUCI ID</th>\n",
       "      <th>Campaign Delivery ID</th>\n",
       "      <th>Opened Date Hour ID</th>\n",
       "      <th>Sent</th>\n",
       "      <th>Delivered</th>\n",
       "      <th>Opened</th>\n",
       "      <th>Clicked</th>\n",
       "      <th>Unsubscribed</th>\n",
       "    </tr>\n",
       "  </thead>\n",
       "  <tbody>\n",
       "    <tr>\n",
       "      <th>0</th>\n",
       "      <td>003GH1K9GPLAB0WG</td>\n",
       "      <td>643100000258617</td>\n",
       "      <td>NaT</td>\n",
       "      <td>1</td>\n",
       "      <td>1</td>\n",
       "      <td>nan</td>\n",
       "      <td>nan</td>\n",
       "      <td>nan</td>\n",
       "    </tr>\n",
       "    <tr>\n",
       "      <th>1</th>\n",
       "      <td>003GH1K9GPLAB0WG</td>\n",
       "      <td>643100000266591</td>\n",
       "      <td>NaT</td>\n",
       "      <td>1</td>\n",
       "      <td>1</td>\n",
       "      <td>nan</td>\n",
       "      <td>nan</td>\n",
       "      <td>nan</td>\n",
       "    </tr>\n",
       "    <tr>\n",
       "      <th>2</th>\n",
       "      <td>003GH1K9GPLAB0WG</td>\n",
       "      <td>643100000268184</td>\n",
       "      <td>NaT</td>\n",
       "      <td>1</td>\n",
       "      <td>1</td>\n",
       "      <td>nan</td>\n",
       "      <td>nan</td>\n",
       "      <td>nan</td>\n",
       "    </tr>\n",
       "    <tr>\n",
       "      <th>3</th>\n",
       "      <td>003GH1K9GPLAB0WG</td>\n",
       "      <td>643100000280834</td>\n",
       "      <td>NaT</td>\n",
       "      <td>1</td>\n",
       "      <td>1</td>\n",
       "      <td>nan</td>\n",
       "      <td>nan</td>\n",
       "      <td>nan</td>\n",
       "    </tr>\n",
       "    <tr>\n",
       "      <th>4</th>\n",
       "      <td>003GH1K9GPLAB0WG</td>\n",
       "      <td>643100000299637</td>\n",
       "      <td>NaT</td>\n",
       "      <td>1</td>\n",
       "      <td>1</td>\n",
       "      <td>nan</td>\n",
       "      <td>nan</td>\n",
       "      <td>nan</td>\n",
       "    </tr>\n",
       "  </tbody>\n",
       "</table>\n",
       "</div>"
      ],
      "text/plain": [
       "  Consumer SEUCI ID  Campaign Delivery ID Opened Date Hour ID  Sent  \\\n",
       "0  003GH1K9GPLAB0WG       643100000258617                 NaT     1   \n",
       "1  003GH1K9GPLAB0WG       643100000266591                 NaT     1   \n",
       "2  003GH1K9GPLAB0WG       643100000268184                 NaT     1   \n",
       "3  003GH1K9GPLAB0WG       643100000280834                 NaT     1   \n",
       "4  003GH1K9GPLAB0WG       643100000299637                 NaT     1   \n",
       "\n",
       "   Delivered  Opened  Clicked  Unsubscribed  \n",
       "0          1     nan      nan           nan  \n",
       "1          1     nan      nan           nan  \n",
       "2          1     nan      nan           nan  \n",
       "3          1     nan      nan           nan  \n",
       "4          1     nan      nan           nan  "
      ]
     },
     "execution_count": 5,
     "metadata": {},
     "output_type": "execute_result"
    }
   ],
   "source": [
    "engagement.head()"
   ]
  },
  {
   "cell_type": "code",
   "execution_count": 6,
   "metadata": {},
   "outputs": [
    {
     "name": "stdout",
     "output_type": "stream",
     "text": [
      "<class 'pandas.core.frame.DataFrame'>\n",
      "RangeIndex: 919961 entries, 0 to 919960\n",
      "Data columns (total 8 columns):\n",
      " #   Column                Non-Null Count   Dtype         \n",
      "---  ------                --------------   -----         \n",
      " 0   Consumer SEUCI ID     919961 non-null  object        \n",
      " 1   Campaign Delivery ID  919961 non-null  int64         \n",
      " 2   Opened Date Hour ID   86453 non-null   datetime64[ns]\n",
      " 3   Sent                  919961 non-null  int64         \n",
      " 4   Delivered             919961 non-null  int64         \n",
      " 5   Opened                86453 non-null   float64       \n",
      " 6   Clicked               13832 non-null   float64       \n",
      " 7   Unsubscribed          658 non-null     float64       \n",
      "dtypes: datetime64[ns](1), float64(3), int64(3), object(1)\n",
      "memory usage: 56.2+ MB\n"
     ]
    }
   ],
   "source": [
    "engagement.info()"
   ]
  },
  {
   "cell_type": "markdown",
   "metadata": {},
   "source": [
    "**Таблица взаимодействий**\n",
    "\n",
    "`Consumer SEUCI ID` - id кампаний\n",
    "\n",
    "`Campaign Delivery ID` - Id кампании (если клиент попал в таргет)\n",
    "\n",
    "`Opened Date Hour ID` - Дата и время открытия письма\n",
    "\n",
    "`Sent` - это попытка отправки \n",
    "\n",
    "`Delivered` - факт доставки сообщения\n",
    "\n",
    "`Opened` - Клиент открыл письмо (0/1)\n",
    "\n",
    "`Clicked` - Клиент кликнул по контенту письма = перешел на сайт/app (0/1)\n",
    "\n",
    "`Unsubscribed` - Клиент отписался от рассылки с этого письма (0/1)"
   ]
  },
  {
   "cell_type": "code",
   "execution_count": 7,
   "metadata": {},
   "outputs": [
    {
     "data": {
      "text/html": [
       "<div>\n",
       "<style scoped>\n",
       "    .dataframe tbody tr th:only-of-type {\n",
       "        vertical-align: middle;\n",
       "    }\n",
       "\n",
       "    .dataframe tbody tr th {\n",
       "        vertical-align: top;\n",
       "    }\n",
       "\n",
       "    .dataframe thead th {\n",
       "        text-align: right;\n",
       "    }\n",
       "</style>\n",
       "<table border=\"1\" class=\"dataframe\">\n",
       "  <thead>\n",
       "    <tr style=\"text-align: right;\">\n",
       "      <th></th>\n",
       "      <th>Consumer SEUCI ID</th>\n",
       "      <th>Order Date ID</th>\n",
       "      <th>Nr of Transactions</th>\n",
       "    </tr>\n",
       "  </thead>\n",
       "  <tbody>\n",
       "    <tr>\n",
       "      <th>0</th>\n",
       "      <td>0049U5ZF5M0KFYTZ</td>\n",
       "      <td>2019-07-02</td>\n",
       "      <td>1</td>\n",
       "    </tr>\n",
       "    <tr>\n",
       "      <th>1</th>\n",
       "      <td>006ZYWZO9M7FS9BT</td>\n",
       "      <td>2019-07-01</td>\n",
       "      <td>1</td>\n",
       "    </tr>\n",
       "    <tr>\n",
       "      <th>2</th>\n",
       "      <td>006ZYWZO9M7FS9BT</td>\n",
       "      <td>2020-01-29</td>\n",
       "      <td>1</td>\n",
       "    </tr>\n",
       "    <tr>\n",
       "      <th>3</th>\n",
       "      <td>00SC6AIM4AZ0RL4N</td>\n",
       "      <td>2019-07-24</td>\n",
       "      <td>1</td>\n",
       "    </tr>\n",
       "    <tr>\n",
       "      <th>4</th>\n",
       "      <td>00UFVL6NWLOKB7S5</td>\n",
       "      <td>2019-09-19</td>\n",
       "      <td>1</td>\n",
       "    </tr>\n",
       "  </tbody>\n",
       "</table>\n",
       "</div>"
      ],
      "text/plain": [
       "  Consumer SEUCI ID Order Date ID  Nr of Transactions\n",
       "0  0049U5ZF5M0KFYTZ    2019-07-02                   1\n",
       "1  006ZYWZO9M7FS9BT    2019-07-01                   1\n",
       "2  006ZYWZO9M7FS9BT    2020-01-29                   1\n",
       "3  00SC6AIM4AZ0RL4N    2019-07-24                   1\n",
       "4  00UFVL6NWLOKB7S5    2019-09-19                   1"
      ]
     },
     "execution_count": 7,
     "metadata": {},
     "output_type": "execute_result"
    }
   ],
   "source": [
    "transactions.head()"
   ]
  },
  {
   "cell_type": "code",
   "execution_count": 8,
   "metadata": {},
   "outputs": [
    {
     "name": "stdout",
     "output_type": "stream",
     "text": [
      "<class 'pandas.core.frame.DataFrame'>\n",
      "RangeIndex: 13997 entries, 0 to 13996\n",
      "Data columns (total 3 columns):\n",
      " #   Column              Non-Null Count  Dtype         \n",
      "---  ------              --------------  -----         \n",
      " 0   Consumer SEUCI ID   13997 non-null  object        \n",
      " 1   Order Date ID       13997 non-null  datetime64[ns]\n",
      " 2   Nr of Transactions  13997 non-null  int64         \n",
      "dtypes: datetime64[ns](1), int64(1), object(1)\n",
      "memory usage: 328.2+ KB\n"
     ]
    }
   ],
   "source": [
    "transactions.info()"
   ]
  },
  {
   "cell_type": "markdown",
   "metadata": {},
   "source": [
    "**Таблица заказов**\n",
    "\n",
    "`сonsumer_id` - Id клиента\n",
    "\n",
    "`order_date_id` - Дата транзакции\n",
    "\n",
    "`nr_of_transactions` - Кол-во транзакций"
   ]
  },
  {
   "cell_type": "code",
   "execution_count": 9,
   "metadata": {},
   "outputs": [
    {
     "data": {
      "text/html": [
       "<div>\n",
       "<style scoped>\n",
       "    .dataframe tbody tr th:only-of-type {\n",
       "        vertical-align: middle;\n",
       "    }\n",
       "\n",
       "    .dataframe tbody tr th {\n",
       "        vertical-align: top;\n",
       "    }\n",
       "\n",
       "    .dataframe thead th {\n",
       "        text-align: right;\n",
       "    }\n",
       "</style>\n",
       "<table border=\"1\" class=\"dataframe\">\n",
       "  <thead>\n",
       "    <tr style=\"text-align: right;\">\n",
       "      <th></th>\n",
       "      <th>Consumer SEUCI ID</th>\n",
       "      <th>Age ID</th>\n",
       "      <th>Gender DESC</th>\n",
       "      <th>First Signup Date ID</th>\n",
       "      <th>Sent</th>\n",
       "    </tr>\n",
       "  </thead>\n",
       "  <tbody>\n",
       "    <tr>\n",
       "      <th>0</th>\n",
       "      <td>003GH1K9GPLAB0WG</td>\n",
       "      <td>nan</td>\n",
       "      <td>Not Set</td>\n",
       "      <td>2019-07-01</td>\n",
       "      <td>51</td>\n",
       "    </tr>\n",
       "    <tr>\n",
       "      <th>1</th>\n",
       "      <td>0049U5ZF5M0KFYTZ</td>\n",
       "      <td>39.000</td>\n",
       "      <td>Male</td>\n",
       "      <td>2019-07-02</td>\n",
       "      <td>104</td>\n",
       "    </tr>\n",
       "    <tr>\n",
       "      <th>2</th>\n",
       "      <td>006ZYWZO9M7FS9BT</td>\n",
       "      <td>33.000</td>\n",
       "      <td>Male</td>\n",
       "      <td>2019-07-01</td>\n",
       "      <td>149</td>\n",
       "    </tr>\n",
       "    <tr>\n",
       "      <th>3</th>\n",
       "      <td>00720YKABZ6J9ZJ1</td>\n",
       "      <td>nan</td>\n",
       "      <td>Female</td>\n",
       "      <td>2019-07-01</td>\n",
       "      <td>47</td>\n",
       "    </tr>\n",
       "    <tr>\n",
       "      <th>4</th>\n",
       "      <td>009LQ66BFK5BIS1S</td>\n",
       "      <td>26.000</td>\n",
       "      <td>Male</td>\n",
       "      <td>2019-07-01</td>\n",
       "      <td>2</td>\n",
       "    </tr>\n",
       "  </tbody>\n",
       "</table>\n",
       "</div>"
      ],
      "text/plain": [
       "  Consumer SEUCI ID  Age ID Gender DESC First Signup Date ID  Sent\n",
       "0  003GH1K9GPLAB0WG     nan     Not Set           2019-07-01    51\n",
       "1  0049U5ZF5M0KFYTZ  39.000        Male           2019-07-02   104\n",
       "2  006ZYWZO9M7FS9BT  33.000        Male           2019-07-01   149\n",
       "3  00720YKABZ6J9ZJ1     nan      Female           2019-07-01    47\n",
       "4  009LQ66BFK5BIS1S  26.000        Male           2019-07-01     2"
      ]
     },
     "execution_count": 9,
     "metadata": {},
     "output_type": "execute_result"
    }
   ],
   "source": [
    "members.head()"
   ]
  },
  {
   "cell_type": "code",
   "execution_count": 10,
   "metadata": {},
   "outputs": [
    {
     "name": "stdout",
     "output_type": "stream",
     "text": [
      "<class 'pandas.core.frame.DataFrame'>\n",
      "RangeIndex: 14065 entries, 0 to 14064\n",
      "Data columns (total 5 columns):\n",
      " #   Column                Non-Null Count  Dtype         \n",
      "---  ------                --------------  -----         \n",
      " 0   Consumer SEUCI ID     14065 non-null  object        \n",
      " 1   Age ID                10981 non-null  float64       \n",
      " 2   Gender DESC           14065 non-null  object        \n",
      " 3   First Signup Date ID  14065 non-null  datetime64[ns]\n",
      " 4   Sent                  14065 non-null  int64         \n",
      "dtypes: datetime64[ns](1), float64(1), int64(1), object(2)\n",
      "memory usage: 549.5+ KB\n"
     ]
    }
   ],
   "source": [
    "members.info()"
   ]
  },
  {
   "cell_type": "markdown",
   "metadata": {},
   "source": [
    "**Таблица клиентов**\n",
    "\n",
    "`сonsumer_id` - Id клента\n",
    "\n",
    "`age_id` - Возраст\n",
    "\n",
    "`gender` - Пол\n",
    "\n",
    "`first_signup_date_id` - Дата регистрациии \n",
    "\n",
    "`sent` - !техническая колонка (можно игнорировать)"
   ]
  },
  {
   "cell_type": "markdown",
   "metadata": {},
   "source": [
    "### Изменим наименования столбоцов для удобвства"
   ]
  },
  {
   "cell_type": "code",
   "execution_count": 11,
   "metadata": {},
   "outputs": [
    {
     "data": {
      "text/plain": [
       "Index(['Campaign Delivery ID', 'Sent Date Hour ID', 'Sent'], dtype='object')"
      ]
     },
     "execution_count": 11,
     "metadata": {},
     "output_type": "execute_result"
    }
   ],
   "source": [
    "campaings.columns"
   ]
  },
  {
   "cell_type": "code",
   "execution_count": 12,
   "metadata": {},
   "outputs": [],
   "source": [
    "campaings = campaings.drop(columns = ['Sent']).rename(columns={'Campaign Delivery ID':'campaign_delivery_id', \n",
    "                                      'Sent Date Hour ID':'sent_date_hour'})"
   ]
  },
  {
   "cell_type": "code",
   "execution_count": 13,
   "metadata": {},
   "outputs": [
    {
     "data": {
      "text/plain": [
       "Index(['Consumer SEUCI ID', 'Campaign Delivery ID', 'Opened Date Hour ID',\n",
       "       'Sent', 'Delivered', 'Opened', 'Clicked', 'Unsubscribed'],\n",
       "      dtype='object')"
      ]
     },
     "execution_count": 13,
     "metadata": {},
     "output_type": "execute_result"
    }
   ],
   "source": [
    "engagement.columns"
   ]
  },
  {
   "cell_type": "code",
   "execution_count": 14,
   "metadata": {},
   "outputs": [],
   "source": [
    "engagement = engagement.rename(columns={'Consumer SEUCI ID':'сonsumer_id', 'Campaign Delivery ID':'campaign_delivery_id',\n",
    "                                        'Opened Date Hour ID':'opened_date_hour', 'Sent Date Hour ID':'sent_date_hour', \n",
    "                                        'Delivered':'delivered', 'Clicked':'clicked', 'Unsubscribed':'unsubscribed', 'Opened':'opened', 'Sent':'sent'})"
   ]
  },
  {
   "cell_type": "code",
   "execution_count": 15,
   "metadata": {},
   "outputs": [
    {
     "data": {
      "text/plain": [
       "Index(['Consumer SEUCI ID', 'Order Date ID', 'Nr of Transactions'], dtype='object')"
      ]
     },
     "execution_count": 15,
     "metadata": {},
     "output_type": "execute_result"
    }
   ],
   "source": [
    "transactions.columns"
   ]
  },
  {
   "cell_type": "code",
   "execution_count": 16,
   "metadata": {},
   "outputs": [],
   "source": [
    "transactions = transactions.rename(columns={'Consumer SEUCI ID':'сonsumer_id', \n",
    "                                    'Order Date ID':'order_date', \n",
    "                                    'Nr of Transactions':'nr_of_transactions'})"
   ]
  },
  {
   "cell_type": "code",
   "execution_count": 17,
   "metadata": {},
   "outputs": [
    {
     "data": {
      "text/plain": [
       "Index(['Consumer SEUCI ID', 'Age ID', 'Gender DESC', 'First Signup Date ID',\n",
       "       'Sent'],\n",
       "      dtype='object')"
      ]
     },
     "execution_count": 17,
     "metadata": {},
     "output_type": "execute_result"
    }
   ],
   "source": [
    "members.columns"
   ]
  },
  {
   "cell_type": "code",
   "execution_count": 18,
   "metadata": {},
   "outputs": [],
   "source": [
    "members = members.drop(columns = ['Sent']).rename(columns={'Consumer SEUCI ID':'сonsumer_id', \n",
    "                                  'Age ID':'age', 'Gender DESC':'gender',\n",
    "                                  'First Signup Date ID':'first_signup_date'})"
   ]
  },
  {
   "cell_type": "markdown",
   "metadata": {},
   "source": [
    "## Шаг 2. Исследовательский анализ данных (EDA)"
   ]
  },
  {
   "cell_type": "markdown",
   "metadata": {},
   "source": [
    "### Рассмотрим первичные значения"
   ]
  },
  {
   "cell_type": "code",
   "execution_count": 19,
   "metadata": {},
   "outputs": [
    {
     "data": {
      "text/html": [
       "<div>\n",
       "<style scoped>\n",
       "    .dataframe tbody tr th:only-of-type {\n",
       "        vertical-align: middle;\n",
       "    }\n",
       "\n",
       "    .dataframe tbody tr th {\n",
       "        vertical-align: top;\n",
       "    }\n",
       "\n",
       "    .dataframe thead th {\n",
       "        text-align: right;\n",
       "    }\n",
       "</style>\n",
       "<table border=\"1\" class=\"dataframe\">\n",
       "  <thead>\n",
       "    <tr style=\"text-align: right;\">\n",
       "      <th></th>\n",
       "      <th>count</th>\n",
       "      <th>mean</th>\n",
       "      <th>std</th>\n",
       "      <th>min</th>\n",
       "      <th>25%</th>\n",
       "      <th>50%</th>\n",
       "      <th>75%</th>\n",
       "      <th>max</th>\n",
       "    </tr>\n",
       "  </thead>\n",
       "  <tbody>\n",
       "    <tr>\n",
       "      <th>campaign_delivery_id</th>\n",
       "      <td>505.000</td>\n",
       "      <td>643100000984843.375</td>\n",
       "      <td>478015.252</td>\n",
       "      <td>643100000215092.000</td>\n",
       "      <td>643100000525681.000</td>\n",
       "      <td>643100001117111.000</td>\n",
       "      <td>643100001391549.000</td>\n",
       "      <td>643100001658409.000</td>\n",
       "    </tr>\n",
       "  </tbody>\n",
       "</table>\n",
       "</div>"
      ],
      "text/plain": [
       "                       count                mean        std  \\\n",
       "campaign_delivery_id 505.000 643100000984843.375 478015.252   \n",
       "\n",
       "                                     min                 25%  \\\n",
       "campaign_delivery_id 643100000215092.000 643100000525681.000   \n",
       "\n",
       "                                     50%                 75%  \\\n",
       "campaign_delivery_id 643100001117111.000 643100001391549.000   \n",
       "\n",
       "                                     max  \n",
       "campaign_delivery_id 643100001658409.000  "
      ]
     },
     "metadata": {},
     "output_type": "display_data"
    },
    {
     "data": {
      "text/html": [
       "<div>\n",
       "<style scoped>\n",
       "    .dataframe tbody tr th:only-of-type {\n",
       "        vertical-align: middle;\n",
       "    }\n",
       "\n",
       "    .dataframe tbody tr th {\n",
       "        vertical-align: top;\n",
       "    }\n",
       "\n",
       "    .dataframe thead th {\n",
       "        text-align: right;\n",
       "    }\n",
       "</style>\n",
       "<table border=\"1\" class=\"dataframe\">\n",
       "  <thead>\n",
       "    <tr style=\"text-align: right;\">\n",
       "      <th></th>\n",
       "      <th>count</th>\n",
       "      <th>mean</th>\n",
       "      <th>std</th>\n",
       "      <th>min</th>\n",
       "      <th>25%</th>\n",
       "      <th>50%</th>\n",
       "      <th>75%</th>\n",
       "      <th>max</th>\n",
       "    </tr>\n",
       "  </thead>\n",
       "  <tbody>\n",
       "    <tr>\n",
       "      <th>campaign_delivery_id</th>\n",
       "      <td>919961.000</td>\n",
       "      <td>643100000940351.875</td>\n",
       "      <td>461636.463</td>\n",
       "      <td>643100000215092.000</td>\n",
       "      <td>643100000482030.000</td>\n",
       "      <td>643100000889086.000</td>\n",
       "      <td>643100001370773.000</td>\n",
       "      <td>643100001663233.000</td>\n",
       "    </tr>\n",
       "    <tr>\n",
       "      <th>sent</th>\n",
       "      <td>919961.000</td>\n",
       "      <td>1.000</td>\n",
       "      <td>0.000</td>\n",
       "      <td>1.000</td>\n",
       "      <td>1.000</td>\n",
       "      <td>1.000</td>\n",
       "      <td>1.000</td>\n",
       "      <td>1.000</td>\n",
       "    </tr>\n",
       "    <tr>\n",
       "      <th>delivered</th>\n",
       "      <td>919961.000</td>\n",
       "      <td>0.995</td>\n",
       "      <td>0.072</td>\n",
       "      <td>0.000</td>\n",
       "      <td>1.000</td>\n",
       "      <td>1.000</td>\n",
       "      <td>1.000</td>\n",
       "      <td>1.000</td>\n",
       "    </tr>\n",
       "    <tr>\n",
       "      <th>opened</th>\n",
       "      <td>86453.000</td>\n",
       "      <td>1.000</td>\n",
       "      <td>0.000</td>\n",
       "      <td>1.000</td>\n",
       "      <td>1.000</td>\n",
       "      <td>1.000</td>\n",
       "      <td>1.000</td>\n",
       "      <td>1.000</td>\n",
       "    </tr>\n",
       "    <tr>\n",
       "      <th>clicked</th>\n",
       "      <td>13832.000</td>\n",
       "      <td>1.000</td>\n",
       "      <td>0.000</td>\n",
       "      <td>1.000</td>\n",
       "      <td>1.000</td>\n",
       "      <td>1.000</td>\n",
       "      <td>1.000</td>\n",
       "      <td>1.000</td>\n",
       "    </tr>\n",
       "    <tr>\n",
       "      <th>unsubscribed</th>\n",
       "      <td>658.000</td>\n",
       "      <td>1.000</td>\n",
       "      <td>0.000</td>\n",
       "      <td>1.000</td>\n",
       "      <td>1.000</td>\n",
       "      <td>1.000</td>\n",
       "      <td>1.000</td>\n",
       "      <td>1.000</td>\n",
       "    </tr>\n",
       "  </tbody>\n",
       "</table>\n",
       "</div>"
      ],
      "text/plain": [
       "                          count                mean        std  \\\n",
       "campaign_delivery_id 919961.000 643100000940351.875 461636.463   \n",
       "sent                 919961.000               1.000      0.000   \n",
       "delivered            919961.000               0.995      0.072   \n",
       "opened                86453.000               1.000      0.000   \n",
       "clicked               13832.000               1.000      0.000   \n",
       "unsubscribed            658.000               1.000      0.000   \n",
       "\n",
       "                                     min                 25%  \\\n",
       "campaign_delivery_id 643100000215092.000 643100000482030.000   \n",
       "sent                               1.000               1.000   \n",
       "delivered                          0.000               1.000   \n",
       "opened                             1.000               1.000   \n",
       "clicked                            1.000               1.000   \n",
       "unsubscribed                       1.000               1.000   \n",
       "\n",
       "                                     50%                 75%  \\\n",
       "campaign_delivery_id 643100000889086.000 643100001370773.000   \n",
       "sent                               1.000               1.000   \n",
       "delivered                          1.000               1.000   \n",
       "opened                             1.000               1.000   \n",
       "clicked                            1.000               1.000   \n",
       "unsubscribed                       1.000               1.000   \n",
       "\n",
       "                                     max  \n",
       "campaign_delivery_id 643100001663233.000  \n",
       "sent                               1.000  \n",
       "delivered                          1.000  \n",
       "opened                             1.000  \n",
       "clicked                            1.000  \n",
       "unsubscribed                       1.000  "
      ]
     },
     "metadata": {},
     "output_type": "display_data"
    },
    {
     "data": {
      "text/html": [
       "<div>\n",
       "<style scoped>\n",
       "    .dataframe tbody tr th:only-of-type {\n",
       "        vertical-align: middle;\n",
       "    }\n",
       "\n",
       "    .dataframe tbody tr th {\n",
       "        vertical-align: top;\n",
       "    }\n",
       "\n",
       "    .dataframe thead th {\n",
       "        text-align: right;\n",
       "    }\n",
       "</style>\n",
       "<table border=\"1\" class=\"dataframe\">\n",
       "  <thead>\n",
       "    <tr style=\"text-align: right;\">\n",
       "      <th></th>\n",
       "      <th>count</th>\n",
       "      <th>mean</th>\n",
       "      <th>std</th>\n",
       "      <th>min</th>\n",
       "      <th>25%</th>\n",
       "      <th>50%</th>\n",
       "      <th>75%</th>\n",
       "      <th>max</th>\n",
       "    </tr>\n",
       "  </thead>\n",
       "  <tbody>\n",
       "    <tr>\n",
       "      <th>nr_of_transactions</th>\n",
       "      <td>13997.000</td>\n",
       "      <td>1.104</td>\n",
       "      <td>0.417</td>\n",
       "      <td>1.000</td>\n",
       "      <td>1.000</td>\n",
       "      <td>1.000</td>\n",
       "      <td>1.000</td>\n",
       "      <td>13.000</td>\n",
       "    </tr>\n",
       "  </tbody>\n",
       "</table>\n",
       "</div>"
      ],
      "text/plain": [
       "                       count  mean   std   min   25%   50%   75%    max\n",
       "nr_of_transactions 13997.000 1.104 0.417 1.000 1.000 1.000 1.000 13.000"
      ]
     },
     "metadata": {},
     "output_type": "display_data"
    },
    {
     "data": {
      "text/html": [
       "<div>\n",
       "<style scoped>\n",
       "    .dataframe tbody tr th:only-of-type {\n",
       "        vertical-align: middle;\n",
       "    }\n",
       "\n",
       "    .dataframe tbody tr th {\n",
       "        vertical-align: top;\n",
       "    }\n",
       "\n",
       "    .dataframe thead th {\n",
       "        text-align: right;\n",
       "    }\n",
       "</style>\n",
       "<table border=\"1\" class=\"dataframe\">\n",
       "  <thead>\n",
       "    <tr style=\"text-align: right;\">\n",
       "      <th></th>\n",
       "      <th>count</th>\n",
       "      <th>mean</th>\n",
       "      <th>std</th>\n",
       "      <th>min</th>\n",
       "      <th>25%</th>\n",
       "      <th>50%</th>\n",
       "      <th>75%</th>\n",
       "      <th>max</th>\n",
       "    </tr>\n",
       "  </thead>\n",
       "  <tbody>\n",
       "    <tr>\n",
       "      <th>age</th>\n",
       "      <td>10981.000</td>\n",
       "      <td>30.415</td>\n",
       "      <td>11.628</td>\n",
       "      <td>14.000</td>\n",
       "      <td>21.000</td>\n",
       "      <td>29.000</td>\n",
       "      <td>38.000</td>\n",
       "      <td>141.000</td>\n",
       "    </tr>\n",
       "  </tbody>\n",
       "</table>\n",
       "</div>"
      ],
      "text/plain": [
       "        count   mean    std    min    25%    50%    75%     max\n",
       "age 10981.000 30.415 11.628 14.000 21.000 29.000 38.000 141.000"
      ]
     },
     "metadata": {},
     "output_type": "display_data"
    }
   ],
   "source": [
    "all_df = [campaings, engagement, transactions, members]\n",
    "for df in all_df:   \n",
    "    display(df.describe().T)"
   ]
  },
  {
   "cell_type": "markdown",
   "metadata": {},
   "source": [
    "### Проверим дубликаты"
   ]
  },
  {
   "cell_type": "code",
   "execution_count": 20,
   "metadata": {},
   "outputs": [
    {
     "data": {
      "text/plain": [
       "0"
      ]
     },
     "metadata": {},
     "output_type": "display_data"
    },
    {
     "data": {
      "text/plain": [
       "0"
      ]
     },
     "metadata": {},
     "output_type": "display_data"
    },
    {
     "data": {
      "text/plain": [
       "0"
      ]
     },
     "metadata": {},
     "output_type": "display_data"
    },
    {
     "data": {
      "text/plain": [
       "0"
      ]
     },
     "metadata": {},
     "output_type": "display_data"
    }
   ],
   "source": [
    "for df in all_df:   \n",
    "    display(df.duplicated().sum())"
   ]
  },
  {
   "cell_type": "code",
   "execution_count": 21,
   "metadata": {},
   "outputs": [
    {
     "data": {
      "text/plain": [
       "Male                0.464\n",
       "Female              0.412\n",
       "Not Set             0.116\n",
       "Prefer Not to Say   0.007\n",
       "Name: gender, dtype: float64"
      ]
     },
     "execution_count": 21,
     "metadata": {},
     "output_type": "execute_result"
    }
   ],
   "source": [
    "# проверим значения пола\n",
    "members['gender'].value_counts(True)"
   ]
  },
  {
   "cell_type": "markdown",
   "metadata": {},
   "source": [
    "Переименуем значения для удобства анализа:\n",
    "`Female` - 0, \n",
    "`Male` - 1, \n",
    "`Prefer Not to Say` - 2, \n",
    "`Not Set` -  3"
   ]
  },
  {
   "cell_type": "code",
   "execution_count": 22,
   "metadata": {},
   "outputs": [],
   "source": [
    "members['gender'] = members['gender'].replace('Female','0').replace('Male','1').replace('Not Set','3').replace('Prefer Not to Say','2').astype('int')"
   ]
  },
  {
   "cell_type": "code",
   "execution_count": 23,
   "metadata": {},
   "outputs": [
    {
     "data": {
      "text/plain": [
       "256"
      ]
     },
     "execution_count": 23,
     "metadata": {},
     "output_type": "execute_result"
    }
   ],
   "source": [
    "# уникальное кол-во компаний campaings\n",
    "campaings['campaign_delivery_id'].nunique()"
   ]
  },
  {
   "cell_type": "code",
   "execution_count": 24,
   "metadata": {},
   "outputs": [
    {
     "data": {
      "text/plain": [
       "258"
      ]
     },
     "execution_count": 24,
     "metadata": {},
     "output_type": "execute_result"
    }
   ],
   "source": [
    "# уникальное кол-во компаний engagement\n",
    "engagement['campaign_delivery_id'].nunique()"
   ]
  },
  {
   "cell_type": "code",
   "execution_count": 25,
   "metadata": {},
   "outputs": [
    {
     "data": {
      "text/plain": [
       "Timestamp('2019-07-21 09:00:00')"
      ]
     },
     "metadata": {},
     "output_type": "display_data"
    },
    {
     "data": {
      "text/plain": [
       "Timestamp('2020-06-30 09:00:00')"
      ]
     },
     "metadata": {},
     "output_type": "display_data"
    }
   ],
   "source": [
    "# проверим максимальные и минимальные даты датасетов\n",
    "display(campaings['sent_date_hour'].min())\n",
    "display(campaings['sent_date_hour'].max())"
   ]
  },
  {
   "cell_type": "code",
   "execution_count": 26,
   "metadata": {},
   "outputs": [
    {
     "data": {
      "text/plain": [
       "Timestamp('2019-07-21 09:00:00')"
      ]
     },
     "metadata": {},
     "output_type": "display_data"
    },
    {
     "data": {
      "text/plain": [
       "Timestamp('2020-08-01 22:00:00')"
      ]
     },
     "metadata": {},
     "output_type": "display_data"
    }
   ],
   "source": [
    "display(engagement['opened_date_hour'].min())\n",
    "display(engagement['opened_date_hour'].max())"
   ]
  },
  {
   "cell_type": "code",
   "execution_count": 27,
   "metadata": {},
   "outputs": [
    {
     "data": {
      "text/plain": [
       "Timestamp('2019-07-01 00:00:00')"
      ]
     },
     "metadata": {},
     "output_type": "display_data"
    },
    {
     "data": {
      "text/plain": [
       "Timestamp('2020-07-02 00:00:00')"
      ]
     },
     "metadata": {},
     "output_type": "display_data"
    }
   ],
   "source": [
    "display(transactions['order_date'].min())\n",
    "display(transactions['order_date'].max())"
   ]
  },
  {
   "cell_type": "code",
   "execution_count": 28,
   "metadata": {},
   "outputs": [
    {
     "data": {
      "text/plain": [
       "Timestamp('2019-07-01 00:00:00')"
      ]
     },
     "metadata": {},
     "output_type": "display_data"
    },
    {
     "data": {
      "text/plain": [
       "Timestamp('2019-07-02 00:00:00')"
      ]
     },
     "metadata": {},
     "output_type": "display_data"
    }
   ],
   "source": [
    "display(members['first_signup_date'].min())\n",
    "display(members['first_signup_date'].max())"
   ]
  },
  {
   "cell_type": "code",
   "execution_count": 29,
   "metadata": {},
   "outputs": [
    {
     "data": {
      "text/plain": [
       "2019-07-02    7074\n",
       "2019-07-01    6991\n",
       "Name: first_signup_date, dtype: int64"
      ]
     },
     "execution_count": 29,
     "metadata": {},
     "output_type": "execute_result"
    }
   ],
   "source": [
    "members['first_signup_date'].value_counts()"
   ]
  },
  {
   "cell_type": "code",
   "execution_count": 30,
   "metadata": {},
   "outputs": [],
   "source": [
    "test = engagement.copy()\n",
    "test = test.query('opened_date_hour <= \"2020-07-30 09:00:00\"')"
   ]
  },
  {
   "cell_type": "code",
   "execution_count": 31,
   "metadata": {},
   "outputs": [
    {
     "data": {
      "text/plain": [
       "Timestamp('2019-07-21 09:00:00')"
      ]
     },
     "metadata": {},
     "output_type": "display_data"
    },
    {
     "data": {
      "text/plain": [
       "Timestamp('2020-07-30 08:00:00')"
      ]
     },
     "metadata": {},
     "output_type": "display_data"
    }
   ],
   "source": [
    "display(test['opened_date_hour'].min())\n",
    "display(test['opened_date_hour'].max())"
   ]
  },
  {
   "cell_type": "code",
   "execution_count": 32,
   "metadata": {},
   "outputs": [
    {
     "data": {
      "text/plain": [
       "256"
      ]
     },
     "execution_count": 32,
     "metadata": {},
     "output_type": "execute_result"
    }
   ],
   "source": [
    "test['campaign_delivery_id'].nunique()"
   ]
  },
  {
   "cell_type": "code",
   "execution_count": 33,
   "metadata": {},
   "outputs": [
    {
     "data": {
      "text/plain": [
       "14065"
      ]
     },
     "execution_count": 33,
     "metadata": {},
     "output_type": "execute_result"
    }
   ],
   "source": [
    "# проверим уникальные значения клиентов в members и engagement\n",
    "members['сonsumer_id'].nunique()"
   ]
  },
  {
   "cell_type": "code",
   "execution_count": 34,
   "metadata": {},
   "outputs": [
    {
     "data": {
      "text/plain": [
       "14059"
      ]
     },
     "execution_count": 34,
     "metadata": {},
     "output_type": "execute_result"
    }
   ],
   "source": [
    "engagement['сonsumer_id'].nunique()"
   ]
  },
  {
   "cell_type": "markdown",
   "metadata": {},
   "source": [
    "### Мы анализируем период рассылок с 2019-07-21 по 2020-07-21 для 14065 клиентов пришедших с 2019-07-01 по 2019-07-02 (2 дня) на 256 компаниях. Транзакции с 2019-07-01 по 2020-07-02"
   ]
  },
  {
   "cell_type": "markdown",
   "metadata": {},
   "source": [
    "## Шаг 3. Ответы на вопросы заказчика. Формулировка и проверка статистических гипотез"
   ]
  },
  {
   "cell_type": "code",
   "execution_count": 35,
   "metadata": {},
   "outputs": [],
   "source": [
    "# заполним пропущенные значение\n",
    "engagement['clicked'] = engagement['clicked'].fillna(0).astype('int64')\n",
    "engagement['opened'] = engagement['opened'].fillna(0).astype('int64')\n",
    "engagement['unsubscribed'] = engagement['unsubscribed'].fillna(0).astype('int64')"
   ]
  },
  {
   "cell_type": "code",
   "execution_count": 36,
   "metadata": {},
   "outputs": [],
   "source": [
    "# добавим столбик месяца\n",
    "engagement['month_date'] = engagement['opened_date_hour'].apply(lambda x: x.strftime(\"%Y-%m\") if pd.notnull(x) else 'NaT')"
   ]
  },
  {
   "cell_type": "code",
   "execution_count": 37,
   "metadata": {},
   "outputs": [
    {
     "data": {
      "text/html": [
       "<div>\n",
       "<style scoped>\n",
       "    .dataframe tbody tr th:only-of-type {\n",
       "        vertical-align: middle;\n",
       "    }\n",
       "\n",
       "    .dataframe tbody tr th {\n",
       "        vertical-align: top;\n",
       "    }\n",
       "\n",
       "    .dataframe thead tr th {\n",
       "        text-align: left;\n",
       "    }\n",
       "\n",
       "    .dataframe thead tr:last-of-type th {\n",
       "        text-align: right;\n",
       "    }\n",
       "</style>\n",
       "<table border=\"1\" class=\"dataframe\">\n",
       "  <thead>\n",
       "    <tr>\n",
       "      <th></th>\n",
       "      <th colspan=\"4\" halign=\"left\">sum</th>\n",
       "    </tr>\n",
       "    <tr>\n",
       "      <th></th>\n",
       "      <th>delivered</th>\n",
       "      <th>opened</th>\n",
       "      <th>sent</th>\n",
       "      <th>unsubscribed</th>\n",
       "    </tr>\n",
       "    <tr>\n",
       "      <th>month_date</th>\n",
       "      <th></th>\n",
       "      <th></th>\n",
       "      <th></th>\n",
       "      <th></th>\n",
       "    </tr>\n",
       "  </thead>\n",
       "  <tbody>\n",
       "    <tr>\n",
       "      <th>2019-07</th>\n",
       "      <td>39</td>\n",
       "      <td>39</td>\n",
       "      <td>39</td>\n",
       "      <td>0</td>\n",
       "    </tr>\n",
       "    <tr>\n",
       "      <th>2019-08</th>\n",
       "      <td>6943</td>\n",
       "      <td>6943</td>\n",
       "      <td>6943</td>\n",
       "      <td>83</td>\n",
       "    </tr>\n",
       "    <tr>\n",
       "      <th>2019-09</th>\n",
       "      <td>9482</td>\n",
       "      <td>9482</td>\n",
       "      <td>9482</td>\n",
       "      <td>96</td>\n",
       "    </tr>\n",
       "    <tr>\n",
       "      <th>2019-10</th>\n",
       "      <td>9165</td>\n",
       "      <td>9165</td>\n",
       "      <td>9165</td>\n",
       "      <td>66</td>\n",
       "    </tr>\n",
       "    <tr>\n",
       "      <th>2019-11</th>\n",
       "      <td>7990</td>\n",
       "      <td>7990</td>\n",
       "      <td>7990</td>\n",
       "      <td>44</td>\n",
       "    </tr>\n",
       "    <tr>\n",
       "      <th>2019-12</th>\n",
       "      <td>6466</td>\n",
       "      <td>6466</td>\n",
       "      <td>6466</td>\n",
       "      <td>42</td>\n",
       "    </tr>\n",
       "    <tr>\n",
       "      <th>2020-01</th>\n",
       "      <td>6084</td>\n",
       "      <td>6084</td>\n",
       "      <td>6084</td>\n",
       "      <td>41</td>\n",
       "    </tr>\n",
       "    <tr>\n",
       "      <th>2020-02</th>\n",
       "      <td>6735</td>\n",
       "      <td>6735</td>\n",
       "      <td>6735</td>\n",
       "      <td>39</td>\n",
       "    </tr>\n",
       "    <tr>\n",
       "      <th>2020-03</th>\n",
       "      <td>6200</td>\n",
       "      <td>6200</td>\n",
       "      <td>6200</td>\n",
       "      <td>39</td>\n",
       "    </tr>\n",
       "    <tr>\n",
       "      <th>2020-04</th>\n",
       "      <td>9937</td>\n",
       "      <td>9937</td>\n",
       "      <td>9937</td>\n",
       "      <td>68</td>\n",
       "    </tr>\n",
       "    <tr>\n",
       "      <th>2020-05</th>\n",
       "      <td>10195</td>\n",
       "      <td>10195</td>\n",
       "      <td>10195</td>\n",
       "      <td>55</td>\n",
       "    </tr>\n",
       "    <tr>\n",
       "      <th>2020-06</th>\n",
       "      <td>6593</td>\n",
       "      <td>6593</td>\n",
       "      <td>6593</td>\n",
       "      <td>32</td>\n",
       "    </tr>\n",
       "    <tr>\n",
       "      <th>2020-07</th>\n",
       "      <td>621</td>\n",
       "      <td>621</td>\n",
       "      <td>621</td>\n",
       "      <td>4</td>\n",
       "    </tr>\n",
       "    <tr>\n",
       "      <th>2020-08</th>\n",
       "      <td>3</td>\n",
       "      <td>3</td>\n",
       "      <td>3</td>\n",
       "      <td>0</td>\n",
       "    </tr>\n",
       "    <tr>\n",
       "      <th>NaT</th>\n",
       "      <td>828720</td>\n",
       "      <td>0</td>\n",
       "      <td>833508</td>\n",
       "      <td>49</td>\n",
       "    </tr>\n",
       "  </tbody>\n",
       "</table>\n",
       "</div>"
      ],
      "text/plain": [
       "                 sum                            \n",
       "           delivered opened    sent unsubscribed\n",
       "month_date                                      \n",
       "2019-07           39     39      39            0\n",
       "2019-08         6943   6943    6943           83\n",
       "2019-09         9482   9482    9482           96\n",
       "2019-10         9165   9165    9165           66\n",
       "2019-11         7990   7990    7990           44\n",
       "2019-12         6466   6466    6466           42\n",
       "2020-01         6084   6084    6084           41\n",
       "2020-02         6735   6735    6735           39\n",
       "2020-03         6200   6200    6200           39\n",
       "2020-04         9937   9937    9937           68\n",
       "2020-05        10195  10195   10195           55\n",
       "2020-06         6593   6593    6593           32\n",
       "2020-07          621    621     621            4\n",
       "2020-08            3      3       3            0\n",
       "NaT           828720      0  833508           49"
      ]
     },
     "execution_count": 37,
     "metadata": {},
     "output_type": "execute_result"
    }
   ],
   "source": [
    "engagement_pivot = engagement.\\\n",
    "pivot_table(index = 'month_date', values = ['sent', 'delivered', 'opened', 'unsubscribed'], aggfunc = ['sum'])\n",
    "engagement_pivot"
   ]
  },
  {
   "cell_type": "code",
   "execution_count": 38,
   "metadata": {},
   "outputs": [],
   "source": [
    "### Посчитаем средние значения с учётом оттока и без по уникальным пользователям"
   ]
  },
  {
   "cell_type": "code",
   "execution_count": 39,
   "metadata": {},
   "outputs": [
    {
     "data": {
      "text/plain": [
       "0   0.999\n",
       "1   0.001\n",
       "Name: unsubscribed, dtype: float64"
      ]
     },
     "execution_count": 39,
     "metadata": {},
     "output_type": "execute_result"
    }
   ],
   "source": [
    "# % отписавшихся\n",
    "engagement['unsubscribed'].value_counts(True)"
   ]
  },
  {
   "cell_type": "code",
   "execution_count": 40,
   "metadata": {},
   "outputs": [
    {
     "data": {
      "text/plain": [
       "0    919303\n",
       "1       658\n",
       "Name: unsubscribed, dtype: int64"
      ]
     },
     "execution_count": 40,
     "metadata": {},
     "output_type": "execute_result"
    }
   ],
   "source": [
    "engagement['unsubscribed'].value_counts()"
   ]
  },
  {
   "cell_type": "code",
   "execution_count": 41,
   "metadata": {},
   "outputs": [
    {
     "data": {
      "text/plain": [
       "13847"
      ]
     },
     "execution_count": 41,
     "metadata": {},
     "output_type": "execute_result"
    }
   ],
   "source": [
    "engagement[engagement['month_date'] == \"NaT\"]['сonsumer_id'].nunique()"
   ]
  },
  {
   "cell_type": "code",
   "execution_count": 42,
   "metadata": {},
   "outputs": [
    {
     "name": "stdout",
     "output_type": "stream",
     "text": [
      "Доля клиентов которые не открывали рассылки в течение наблюдаемого года: 0.98\n"
     ]
    }
   ],
   "source": [
    "print(\"Доля клиентов которые не открывали рассылки в течение наблюдаемого года: {:.2f}\".\\\n",
    "      format(engagement[engagement['month_date'] == \"NaT\"]['сonsumer_id'].nunique() / engagement['сonsumer_id'].nunique()))"
   ]
  },
  {
   "cell_type": "markdown",
   "metadata": {},
   "source": [
    "**Вывод:**\n",
    "-  Отписавшихся менее 0,1%. Этот показатель вряд ли будет как-то влиять на количество рассылок.\n",
    "-  98% клиентов не открывали сообщения которые им приходили"
   ]
  },
  {
   "cell_type": "code",
   "execution_count": 43,
   "metadata": {},
   "outputs": [
    {
     "data": {
      "image/png": "[encoded data removed]",
      "text/plain": [
       "<Figure size 720x216 with 1 Axes>"
      ]
     },
     "metadata": {
      "needs_background": "light"
     },
     "output_type": "display_data"
    }
   ],
   "source": [
    "# построим распределение по рассылкам \n",
    "engagement.query('month_date != \"NaT\"').\\\n",
    "pivot_table(index = 'month_date', values = ['sent', 'delivered', 'opened'], aggfunc = ['sum']).\\\n",
    "plot(grid=True, style = 'o-', title = 'Динамика действий в зависимости от месяца', legend = False, figsize=(10, 3));\n",
    "plt.xlabel('Дата')\n",
    "plt.ylabel('Количество действи');"
   ]
  },
  {
   "cell_type": "markdown",
   "metadata": {},
   "source": [
    "### Зависимость возможно сезонная и могла быть связанна с короновирусом"
   ]
  },
  {
   "cell_type": "markdown",
   "metadata": {},
   "source": [
    "### Взглянем на действия тех пользователей которые открывают рассылки"
   ]
  },
  {
   "cell_type": "code",
   "execution_count": 44,
   "metadata": {},
   "outputs": [],
   "source": [
    "# посчитаем кол-во действий \n",
    "engagement_cnt = engagement.groupby(['сonsumer_id', 'month_date']).\\\n",
    "agg(sent = ('sent','sum'), delivered = ('delivered','sum'), opened = ('opened','sum'), clicked = ('clicked','sum'), \n",
    "     unsubscribed = ('unsubscribed','sum')).reset_index()"
   ]
  },
  {
   "cell_type": "code",
   "execution_count": 45,
   "metadata": {},
   "outputs": [],
   "source": [
    "# посчитаем кол-во действий без оттока\n",
    "engagement_cnt_0 = engagement.query('unsubscribed == 0').groupby(['сonsumer_id', 'month_date']).\\\n",
    "agg(sent = ('sent','sum'), delivered = ('delivered','sum'), opened = ('opened','sum'), clicked = ('clicked','sum'), \n",
    "     unsubscribed = ('unsubscribed','sum')).reset_index()"
   ]
  },
  {
   "cell_type": "code",
   "execution_count": 46,
   "metadata": {},
   "outputs": [],
   "source": [
    "# посчитаем кол-во действий с оттоком\n",
    "engagement_cnt_1 = engagement.query('unsubscribed == 1').groupby(['сonsumer_id', 'month_date']).\\\n",
    "agg(sent = ('sent','count'), delivered = ('delivered','sum'), opened = ('opened','sum'), clicked = ('clicked','sum'), \n",
    "     unsubscribed = ('unsubscribed','sum')).reset_index()"
   ]
  },
  {
   "cell_type": "markdown",
   "metadata": {},
   "source": [
    "**Посчитаем среднее кол-во действий в месяц**"
   ]
  },
  {
   "cell_type": "code",
   "execution_count": 47,
   "metadata": {},
   "outputs": [
    {
     "data": {
      "image/png": "[encoded data removed]",
      "text/plain": [
       "<Figure size 720x216 with 1 Axes>"
      ]
     },
     "metadata": {
      "needs_background": "light"
     },
     "output_type": "display_data"
    }
   ],
   "source": [
    "engagement_cnt.query('month_date != \"NaT\"').groupby(['month_date']).mean().\\\n",
    "plot(grid=True, style = 'o-', title = 'Среднее количество действий в месяц', figsize=(10, 3))\n",
    "plt.xlabel('Месяц')\n",
    "plt.ylabel('Количество действи');\n",
    "plt.legend(loc='upper center', bbox_to_anchor=(0.5, -0.2), fancybox=True, shadow=True, ncol=5);"
   ]
  },
  {
   "cell_type": "markdown",
   "metadata": {},
   "source": [
    "**Посчитаем среднее кол-во подписок без учёта отписок**"
   ]
  },
  {
   "cell_type": "code",
   "execution_count": 48,
   "metadata": {},
   "outputs": [
    {
     "data": {
      "image/png": "[encoded data removed]",
      "text/plain": [
       "<Figure size 720x216 with 1 Axes>"
      ]
     },
     "metadata": {
      "needs_background": "light"
     },
     "output_type": "display_data"
    }
   ],
   "source": [
    "engagement_cnt_0.query('month_date != \"NaT\"').groupby(['month_date']).mean().\\\n",
    "plot(grid=True, style = 'o-', title = 'Среднее количество действий в месяц без учёта оттока', figsize=(10, 3))\n",
    "plt.xlabel('Месяц')\n",
    "plt.ylabel('Количество действи')\n",
    "plt.legend(loc='upper center', bbox_to_anchor=(0.5, -0.2), fancybox=True, shadow=True, ncol=5);"
   ]
  },
  {
   "cell_type": "markdown",
   "metadata": {},
   "source": [
    "**Посчитаем среднее кол-во подписок с учётом отписок**"
   ]
  },
  {
   "cell_type": "code",
   "execution_count": 49,
   "metadata": {},
   "outputs": [
    {
     "data": {
      "image/png": "[encoded data removed]",
      "text/plain": [
       "<Figure size 720x216 with 1 Axes>"
      ]
     },
     "metadata": {
      "needs_background": "light"
     },
     "output_type": "display_data"
    }
   ],
   "source": [
    "engagement_cnt_1.query('month_date != \"NaT\"').groupby(['month_date']).mean().plot(grid=True, style = 'o-', figsize=(10, 3))\n",
    "plt.title('Среднее количество действий с учётом оттока')\n",
    "plt.xlabel('Месяц')\n",
    "plt.ylabel('Количество действи');\n",
    "plt.legend(loc='upper center', bbox_to_anchor=(0.5, -0.2), fancybox=True, shadow=True, ncol=5);"
   ]
  },
  {
   "cell_type": "markdown",
   "metadata": {},
   "source": [
    "**Вывод:** \n",
    "\n",
    "- Количество рассылок едва влияет на отток. Среднее количество рассылок в высокий сезон, 3-4 рассылки, в низкий - 3 рассылки"
   ]
  },
  {
   "cell_type": "markdown",
   "metadata": {},
   "source": [
    "### Посмотрим на отток в разрезе продаж\n",
    "\n",
    "**Мы предполагаем, что все покупки происходят из-за рассылок. Сравним рассылки с транзакциями по количеству в действий в месяц + id клиента**"
   ]
  },
  {
   "cell_type": "code",
   "execution_count": 50,
   "metadata": {},
   "outputs": [],
   "source": [
    "# дополним таблицу transactions датами месяца\n",
    "transactions['month_date'] = transactions['order_date'].apply(lambda x: pd.Timestamp(x).strftime(\"%Y-%m\") if pd.notnull(x) else 'NaT')"
   ]
  },
  {
   "cell_type": "code",
   "execution_count": 51,
   "metadata": {},
   "outputs": [],
   "source": [
    "# посчитаем факт покупки на каждого клиента \n",
    "transactions_cnt = transactions.groupby(['сonsumer_id', 'month_date']).\\\n",
    "agg(transactions = ('nr_of_transactions','count'))"
   ]
  },
  {
   "cell_type": "code",
   "execution_count": 52,
   "metadata": {},
   "outputs": [],
   "source": [
    "# составим общую таблицу\n",
    "df = engagement.merge(transactions_cnt, on = ['сonsumer_id', 'month_date'], how = 'left').merge(members, on = ['сonsumer_id'], how = 'left')"
   ]
  },
  {
   "cell_type": "code",
   "execution_count": 53,
   "metadata": {},
   "outputs": [
    {
     "name": "stdout",
     "output_type": "stream",
     "text": [
      "<class 'pandas.core.frame.DataFrame'>\n",
      "Int64Index: 919961 entries, 0 to 919960\n",
      "Data columns (total 13 columns):\n",
      " #   Column                Non-Null Count   Dtype         \n",
      "---  ------                --------------   -----         \n",
      " 0   сonsumer_id           919961 non-null  object        \n",
      " 1   campaign_delivery_id  919961 non-null  int64         \n",
      " 2   opened_date_hour      86453 non-null   datetime64[ns]\n",
      " 3   sent                  919961 non-null  int64         \n",
      " 4   delivered             919961 non-null  int64         \n",
      " 5   opened                919961 non-null  int64         \n",
      " 6   clicked               919961 non-null  int64         \n",
      " 7   unsubscribed          919961 non-null  int64         \n",
      " 8   month_date            919961 non-null  object        \n",
      " 9   transactions          6310 non-null    float64       \n",
      " 10  age                   672606 non-null  float64       \n",
      " 11  gender                919961 non-null  int32         \n",
      " 12  first_signup_date     919961 non-null  datetime64[ns]\n",
      "dtypes: datetime64[ns](2), float64(2), int32(1), int64(6), object(2)\n",
      "memory usage: 94.8+ MB\n"
     ]
    }
   ],
   "source": [
    "df.info()"
   ]
  },
  {
   "cell_type": "code",
   "execution_count": 54,
   "metadata": {},
   "outputs": [],
   "source": [
    "# заполним пропущенные значение\n",
    "df['transactions'] = df['transactions'].fillna(0).astype('int64')\n",
    "df['age'] = df['age'].fillna(0).astype('int64')\n",
    "df['gender'] = df['gender'].fillna(0).astype('int64')"
   ]
  },
  {
   "cell_type": "markdown",
   "metadata": {},
   "source": [
    "Назначим конверсии и посчитаем их:\n",
    "\n",
    "`CCS` - конверсия в доставку \n",
    "\n",
    "`CDO` - конверсия в открытие\n",
    "\n",
    "`COC` - конверсия в клики\n",
    "\n",
    "`CUC` - конверсия в отписку\n",
    "\n",
    "`CCT` - конверсия в покупку\n",
    "    "
   ]
  },
  {
   "cell_type": "code",
   "execution_count": 55,
   "metadata": {},
   "outputs": [
    {
     "data": {
      "text/html": [
       "<div>\n",
       "<style scoped>\n",
       "    .dataframe tbody tr th:only-of-type {\n",
       "        vertical-align: middle;\n",
       "    }\n",
       "\n",
       "    .dataframe tbody tr th {\n",
       "        vertical-align: top;\n",
       "    }\n",
       "\n",
       "    .dataframe thead th {\n",
       "        text-align: right;\n",
       "    }\n",
       "</style>\n",
       "<table border=\"1\" class=\"dataframe\">\n",
       "  <thead>\n",
       "    <tr style=\"text-align: right;\">\n",
       "      <th></th>\n",
       "      <th>сonsumer_id</th>\n",
       "      <th>month_date</th>\n",
       "      <th>sent</th>\n",
       "      <th>delivered</th>\n",
       "      <th>opened</th>\n",
       "      <th>clicked</th>\n",
       "      <th>unsubscribed</th>\n",
       "      <th>transactions</th>\n",
       "      <th>CCS</th>\n",
       "      <th>CDO</th>\n",
       "      <th>COC</th>\n",
       "      <th>CUC</th>\n",
       "      <th>CCT</th>\n",
       "    </tr>\n",
       "  </thead>\n",
       "  <tbody>\n",
       "    <tr>\n",
       "      <th>0</th>\n",
       "      <td>003GH1K9GPLAB0WG</td>\n",
       "      <td>NaT</td>\n",
       "      <td>51</td>\n",
       "      <td>51</td>\n",
       "      <td>0</td>\n",
       "      <td>0</td>\n",
       "      <td>0</td>\n",
       "      <td>0</td>\n",
       "      <td>1.000</td>\n",
       "      <td>0.000</td>\n",
       "      <td>0.000</td>\n",
       "      <td>0.000</td>\n",
       "      <td>0.000</td>\n",
       "    </tr>\n",
       "    <tr>\n",
       "      <th>1</th>\n",
       "      <td>0049U5ZF5M0KFYTZ</td>\n",
       "      <td>2019-08</td>\n",
       "      <td>2</td>\n",
       "      <td>2</td>\n",
       "      <td>2</td>\n",
       "      <td>0</td>\n",
       "      <td>0</td>\n",
       "      <td>0</td>\n",
       "      <td>1.000</td>\n",
       "      <td>1.000</td>\n",
       "      <td>0.000</td>\n",
       "      <td>0.000</td>\n",
       "      <td>0.000</td>\n",
       "    </tr>\n",
       "    <tr>\n",
       "      <th>2</th>\n",
       "      <td>0049U5ZF5M0KFYTZ</td>\n",
       "      <td>2019-10</td>\n",
       "      <td>24</td>\n",
       "      <td>24</td>\n",
       "      <td>24</td>\n",
       "      <td>0</td>\n",
       "      <td>0</td>\n",
       "      <td>0</td>\n",
       "      <td>1.000</td>\n",
       "      <td>1.000</td>\n",
       "      <td>0.000</td>\n",
       "      <td>0.000</td>\n",
       "      <td>0.000</td>\n",
       "    </tr>\n",
       "    <tr>\n",
       "      <th>3</th>\n",
       "      <td>0049U5ZF5M0KFYTZ</td>\n",
       "      <td>2019-12</td>\n",
       "      <td>1</td>\n",
       "      <td>1</td>\n",
       "      <td>1</td>\n",
       "      <td>0</td>\n",
       "      <td>0</td>\n",
       "      <td>0</td>\n",
       "      <td>1.000</td>\n",
       "      <td>1.000</td>\n",
       "      <td>0.000</td>\n",
       "      <td>0.000</td>\n",
       "      <td>0.000</td>\n",
       "    </tr>\n",
       "    <tr>\n",
       "      <th>4</th>\n",
       "      <td>0049U5ZF5M0KFYTZ</td>\n",
       "      <td>2020-03</td>\n",
       "      <td>1</td>\n",
       "      <td>1</td>\n",
       "      <td>1</td>\n",
       "      <td>0</td>\n",
       "      <td>0</td>\n",
       "      <td>0</td>\n",
       "      <td>1.000</td>\n",
       "      <td>1.000</td>\n",
       "      <td>0.000</td>\n",
       "      <td>0.000</td>\n",
       "      <td>0.000</td>\n",
       "    </tr>\n",
       "  </tbody>\n",
       "</table>\n",
       "</div>"
      ],
      "text/plain": [
       "        сonsumer_id month_date  sent  delivered  opened  clicked  \\\n",
       "0  003GH1K9GPLAB0WG        NaT    51         51       0        0   \n",
       "1  0049U5ZF5M0KFYTZ    2019-08     2          2       2        0   \n",
       "2  0049U5ZF5M0KFYTZ    2019-10    24         24      24        0   \n",
       "3  0049U5ZF5M0KFYTZ    2019-12     1          1       1        0   \n",
       "4  0049U5ZF5M0KFYTZ    2020-03     1          1       1        0   \n",
       "\n",
       "   unsubscribed  transactions   CCS   CDO   COC   CUC   CCT  \n",
       "0             0             0 1.000 0.000 0.000 0.000 0.000  \n",
       "1             0             0 1.000 1.000 0.000 0.000 0.000  \n",
       "2             0             0 1.000 1.000 0.000 0.000 0.000  \n",
       "3             0             0 1.000 1.000 0.000 0.000 0.000  \n",
       "4             0             0 1.000 1.000 0.000 0.000 0.000  "
      ]
     },
     "execution_count": 55,
     "metadata": {},
     "output_type": "execute_result"
    }
   ],
   "source": [
    "df_cnt = df.groupby(['сonsumer_id', 'month_date']).\\\n",
    "agg(sent = ('sent','sum'), delivered = ('delivered','sum'), opened = ('opened','sum'), clicked = ('clicked','sum'),\n",
    "    unsubscribed = ('unsubscribed','sum'), transactions = ('transactions','sum')).\\\n",
    "assign(CCS = lambda x: x['delivered']/x['sent'], CDO = lambda x: x['opened']/x['delivered'], \n",
    "       COC = lambda x: x['clicked']/x['opened'], CUC = lambda x: x['unsubscribed']/x['clicked'], \n",
    "       CCT = lambda x: x['clicked']/x['transactions']).reset_index()\n",
    "\n",
    "df_cnt = df_cnt.fillna(0)\n",
    "\n",
    "df_cnt.head()"
   ]
  },
  {
   "cell_type": "code",
   "execution_count": 56,
   "metadata": {},
   "outputs": [
    {
     "data": {
      "image/png": "[encoded data removed]",
      "text/plain": [
       "<Figure size 720x288 with 1 Axes>"
      ]
     },
     "metadata": {
      "needs_background": "light"
     },
     "output_type": "display_data"
    }
   ],
   "source": [
    "df_cnt.drop(columns = (['CCS','CDO','COC','CUC','CCT'])).\\\n",
    "query('month_date != \"NaT\" and unsubscribed == 0').groupby(['month_date']).mean().\\\n",
    "plot(grid=True, style = 'o-', title = 'Среднее количество действий в месяц без оттока', figsize=(10, 4))\n",
    "axes = plt.axes()\n",
    "axes.set_ylim([-0.5, 4.5])\n",
    "plt.xlabel('Месяц')\n",
    "plt.ylabel('Среднее количество действи');\n",
    "plt.legend(loc='upper center', bbox_to_anchor=(0.5, -0.15), fancybox=True, shadow=True, ncol=6);"
   ]
  },
  {
   "cell_type": "code",
   "execution_count": 57,
   "metadata": {},
   "outputs": [
    {
     "data": {
      "image/png": "[encoded data removed]",
      "text/plain": [
       "<Figure size 720x288 with 1 Axes>"
      ]
     },
     "metadata": {
      "needs_background": "light"
     },
     "output_type": "display_data"
    }
   ],
   "source": [
    "df_cnt.drop(columns = (['CCS','CDO','COC','CUC','CCT'])).\\\n",
    "query('month_date != \"NaT\" and unsubscribed != 0').groupby(['month_date']).mean().\\\n",
    "plot(grid=True, style = 'o-', title = 'Среднее количество действий в месяц с оттоком', figsize=(10, 4))\n",
    "axes = plt.axes()\n",
    "axes.set_ylim([-0.5, 4.5])\n",
    "plt.xlabel('Месяц')\n",
    "plt.ylabel('Среднее количество действи');\n",
    "plt.legend(loc='upper center', bbox_to_anchor=(0.5, -0.15), fancybox=True, shadow=True, ncol=6);"
   ]
  },
  {
   "cell_type": "markdown",
   "metadata": {},
   "source": [
    "**Вывод:** \n",
    "\n",
    "- Уровень транзакций стремится к единице без учёта оттока. Рассылки колеблются от 3х до 4х. \n",
    "- Уровень транзакций стремится к нулю с учётом оттока и уровень рассылок ближе к 3. Соответственно среднее количество рассылок и транзакций на отток не влияет.\n",
    "- Пик покупок на 2020-06 месяце скорее аномалия, чем нормальное поведение клиентов. "
   ]
  },
  {
   "cell_type": "markdown",
   "metadata": {},
   "source": [
    "**Рассмотрим количество действий в разрезе гендерного различия**"
   ]
  },
  {
   "cell_type": "code",
   "execution_count": 58,
   "metadata": {},
   "outputs": [
    {
     "data": {
      "text/plain": [
       "1   0.469\n",
       "0   0.385\n",
       "3   0.135\n",
       "2   0.011\n",
       "Name: gender, dtype: float64"
      ]
     },
     "execution_count": 58,
     "metadata": {},
     "output_type": "execute_result"
    }
   ],
   "source": [
    "df['gender'].value_counts(True)"
   ]
  },
  {
   "cell_type": "code",
   "execution_count": 59,
   "metadata": {},
   "outputs": [
    {
     "data": {
      "text/plain": [
       "1    431700\n",
       "0    354286\n",
       "3    124001\n",
       "2      9974\n",
       "Name: gender, dtype: int64"
      ]
     },
     "execution_count": 59,
     "metadata": {},
     "output_type": "execute_result"
    }
   ],
   "source": [
    "df['gender'].value_counts()"
   ]
  },
  {
   "cell_type": "code",
   "execution_count": 60,
   "metadata": {},
   "outputs": [],
   "source": [
    "gender_df = df.groupby(['gender']).agg(sent = ('sent','sum'), delivered = ('delivered','sum'), opened = ('opened','sum'), clicked = ('clicked','sum'),\n",
    "    unsubscribed = ('unsubscribed','sum'), transactions = ('transactions','sum'), gender = ('gender','count')).\\\n",
    "assign(sent_percent = lambda x: x['sent']/x['sent'].sum(), delivered_percent = lambda x: x['delivered']/x['delivered'].sum(), \n",
    "       opened_percent = lambda x: x['opened']/x['opened'].sum(), clicked_percent = lambda x: x['clicked']/x['clicked'].sum(), \n",
    "       unsubscribed_percent = lambda x: x['unsubscribed']/x['unsubscribed'].sum(), transactions_percent = lambda x: x['transactions']/x['transactions'].sum(), \n",
    "       gender_percent = lambda x: x['gender'] /x['gender'].sum())"
   ]
  },
  {
   "cell_type": "code",
   "execution_count": 61,
   "metadata": {},
   "outputs": [
    {
     "data": {
      "image/png": "[encoded data removed]",
      "text/plain": [
       "<Figure size 720x360 with 1 Axes>"
      ]
     },
     "metadata": {
      "needs_background": "light"
     },
     "output_type": "display_data"
    }
   ],
   "source": [
    "gender_df.drop(columns = (['sent','delivered','opened','clicked','unsubscribed','transactions','gender'])).\\\n",
    "plot(kind = 'bar', grid=True, style = 'o-', title = 'Доля действий в разрезе гендерного различия', figsize=(10, 5));\n",
    "plt.xticks(rotation='horizontal')\n",
    "plt.xlabel('Пол')\n",
    "plt.ylabel('Доля, о.е.');"
   ]
  },
  {
   "cell_type": "markdown",
   "metadata": {},
   "source": [
    "`Female` - 0, \n",
    "`Male` - 1, \n",
    "`Prefer Not to Say` - 2, \n",
    "`Not Set` -  3"
   ]
  },
  {
   "cell_type": "markdown",
   "metadata": {},
   "source": [
    "**Вывод:** \n",
    "- Мужской пол более склонен к покупкам по сравнению с женским, примерно на 10-20% больше, если уравнивать % соотношение полов 50/50. \n",
    "- Пол номер `2` покупают в 2 раза больше чем кликают."
   ]
  },
  {
   "cell_type": "markdown",
   "metadata": {},
   "source": [
    "### Проверка гипотез Заказчика."
   ]
  },
  {
   "cell_type": "markdown",
   "metadata": {},
   "source": [
    "**Гипотеза 1** - О “пассивной отписке”: когда человеку показалось, что ему пишут слишком много, и он просто перестает открывать рассылки, хоть и не готов отписываться"
   ]
  },
  {
   "cell_type": "markdown",
   "metadata": {},
   "source": [
    "**Посчитаем среднее количество открытий**"
   ]
  },
  {
   "cell_type": "code",
   "execution_count": 62,
   "metadata": {},
   "outputs": [
    {
     "data": {
      "text/plain": [
       "2.1495027349577325"
      ]
     },
     "execution_count": 62,
     "metadata": {},
     "output_type": "execute_result"
    }
   ],
   "source": [
    "df_cnt['opened'].mean()"
   ]
  },
  {
   "cell_type": "markdown",
   "metadata": {},
   "source": [
    "**Среднее количество открытий - 2. Возьмём это число за нормальное (не большое) количество рассылок.**"
   ]
  },
  {
   "cell_type": "markdown",
   "metadata": {},
   "source": [
    "**Проверим статистическую разницу долей (конверсий) z-критерием.**\n",
    "\n",
    "Итак, предположим:\n",
    "\n",
    "- Если пользователю посылают две рассылки и далее более двух он **не** открывает, значит рассылки больше не интересуют пользователя\n",
    "- Если пользователю посылают две рассылки и далее более двух он открывает, значит рассылки всё ещё интересуют пользователя\n",
    "\n",
    "**Поделим пользователей на доли с двумя открытиями и более двух открытий рассылок**\n",
    "\n",
    "*Сформулируем гипотезы H0 и H1 для анализа долей:*\n",
    "\n",
    "> Нулевая гипотеза H0 - \"Нет оснований считать доли разными\"\n",
    "\n",
    "> Альтернативная гипотеза Н1 - \"Между долями есть значимая разница\""
   ]
  },
  {
   "cell_type": "markdown",
   "metadata": {},
   "source": [
    "**Сформируем датафрейм для проверки гипотезы по сумме всех действий каждого пользователя относящихся к открытиям рассылок**"
   ]
  },
  {
   "cell_type": "code",
   "execution_count": 63,
   "metadata": {},
   "outputs": [],
   "source": [
    "hypothesis_1 = engagement.groupby(['сonsumer_id']).\\\n",
    "agg(sent = ('sent','sum'), deliv = ('delivered','sum'), opened = ('opened','sum'), click = ('clicked','sum'), \n",
    "     unsub = ('unsubscribed','sum')).sort_values(by = 'unsub', ascending = False).reset_index()"
   ]
  },
  {
   "cell_type": "code",
   "execution_count": 64,
   "metadata": {},
   "outputs": [
    {
     "name": "stdout",
     "output_type": "stream",
     "text": [
      "p-значение:  0.0\n",
      "Отвергаем нулевую гипотезу: между долями есть значимая разница\n",
      "Разница пропорций в датасетах: -0.377\n"
     ]
    }
   ],
   "source": [
    "from scipy import stats as st\n",
    "import math as mth\n",
    "\n",
    "alpha = .05 # критический уровень статистической значимости\n",
    "\n",
    "successes = np.array([hypothesis_1.query('0 < opened <= 2')['сonsumer_id'].nunique(), hypothesis_1.query('opened > 2')['сonsumer_id'].nunique()])\n",
    "trials = np.array([hypothesis_1.query('opened != 0')['сonsumer_id'].nunique(), hypothesis_1.query('opened != 0')['сonsumer_id'].nunique()])\n",
    "\n",
    "# пропорция успехов в первой группе:\n",
    "p1 = successes[0]/trials[0]\n",
    "\n",
    "# пропорция успехов во второй группе:\n",
    "p2 = successes[1]/trials[1]\n",
    "\n",
    "# пропорция успехов в комбинированном датасете:\n",
    "p_combined = (successes[0] + successes[1]) / (trials[0] + trials[1])\n",
    "\n",
    "# разница пропорций в датасетах\n",
    "difference = p1 - p2\n",
    "\n",
    "# считаем статистику в ст.отклонениях стандартного нормального распределения\n",
    "z_value = difference / mth.sqrt(p_combined * (1 - p_combined) * (1/trials[0] + 1/trials[1]))\n",
    "\n",
    "# задаем стандартное нормальное распределение (среднее 0, ст.отклонение 1)\n",
    "distr = st.norm(0, 1) \n",
    "\n",
    "p_value = (1 - distr.cdf(abs(z_value))) * 2\n",
    "\n",
    "print('p-значение: ', p_value)\n",
    "\n",
    "if (p_value < alpha):\n",
    "    print(\"Отвергаем нулевую гипотезу: между долями есть значимая разница\")\n",
    "else:\n",
    "    print(\"Не получилось отвергнуть нулевую гипотезу, нет оснований считать доли разными\")\n",
    "\n",
    "print(\"Разница пропорций в датасетах: {0:.3f}\".format(difference))   "
   ]
  },
  {
   "cell_type": "markdown",
   "metadata": {},
   "source": [
    "### Гипотеза 1, о \"пассивной отписке\" когда человеку показалось, что ему пишут слишком много пишут не опровергнута "
   ]
  },
  {
   "cell_type": "markdown",
   "metadata": {},
   "source": [
    "**Гипотеза 2** - Клиент совершает покупку и через какое-то время теряет интерес к новостным рассылкам, во всяком случае рассылки на пользователя не генерят продажи"
   ]
  },
  {
   "cell_type": "markdown",
   "metadata": {},
   "source": [
    "**Проверим статистическую разницу долей (конверсий) z-критерием.**\n",
    "\n",
    "Итак, предположим:\n",
    "\n",
    "- Если пользователь совершил всего одну покупку после рассылки, значит рассылки больше не генерят продажи и пользователь потерял интерес к рассылкам\n",
    "- Если пользователь совершил более одной покупки после рассылки, значит рассылки всё ещё генерят продажи и пользователю интересны рассылки\n",
    "\n",
    "**Поделим пользователей на доли с одной покупкой и более одной, среди пользователей, которые хоть раз что-то покупали**\n",
    "\n",
    "*Сформулируем гипотезы H0 и H1 для анализа долей:*\n",
    "\n",
    "> Нулевая гипотеза H0 - \"Нет оснований считать доли разными\"\n",
    "\n",
    "> Альтернативная гипотеза Н1 - \"Между долями есть значимая разница\""
   ]
  },
  {
   "cell_type": "code",
   "execution_count": 65,
   "metadata": {},
   "outputs": [],
   "source": [
    "hypothesis_2 = df.groupby(['сonsumer_id']).\\\n",
    "agg(sent = ('sent','sum'), delivered = ('delivered','sum'), opened = ('opened','sum'), clicked = ('clicked','sum'),\n",
    "    unsubscribed = ('unsubscribed','sum'), transactions = ('transactions','sum')).reset_index()"
   ]
  },
  {
   "cell_type": "code",
   "execution_count": 66,
   "metadata": {},
   "outputs": [],
   "source": [
    "# зададим фильтр на более чем одно открытие рассылки\n",
    "hypothesis_2['A'] = hypothesis_2['opened'] >= 1"
   ]
  },
  {
   "cell_type": "code",
   "execution_count": 67,
   "metadata": {},
   "outputs": [
    {
     "name": "stdout",
     "output_type": "stream",
     "text": [
      "p-значение:  0.0\n",
      "Отвергаем нулевую гипотезу: между долями есть значимая разница\n",
      "Разница пропорций в датасетах: -0.535\n"
     ]
    }
   ],
   "source": [
    "alpha = .05 # критический уровень статистической значимости\n",
    "\n",
    "successes = np.array([hypothesis_2[hypothesis_2['A']].query('transactions == 1')['сonsumer_id'].nunique(),\n",
    "                      hypothesis_2[hypothesis_2['A']].query('transactions > 1')['сonsumer_id'].nunique()])\n",
    "\n",
    "trials = np.array([hypothesis_2[hypothesis_2['A']].query('transactions != 0')['сonsumer_id'].nunique(), \n",
    "                   hypothesis_2[hypothesis_2['A']].query('transactions != 0')['сonsumer_id'].nunique()])\n",
    "\n",
    "# пропорция успехов в первой группе:\n",
    "p1 = successes[0]/trials[0]\n",
    "\n",
    "# пропорция успехов во второй группе:\n",
    "p2 = successes[1]/trials[1]\n",
    "\n",
    "# пропорция успехов в комбинированном датасете:\n",
    "p_combined = (successes[0] + successes[1]) / (trials[0] + trials[1])\n",
    "\n",
    "# разница пропорций в датасетах\n",
    "difference = p1 - p2\n",
    "\n",
    "# считаем статистику в ст.отклонениях стандартного нормального распределения\n",
    "z_value = difference / mth.sqrt(p_combined * (1 - p_combined) * (1/trials[0] + 1/trials[1]))\n",
    "\n",
    "# задаем стандартное нормальное распределение (среднее 0, ст.отклонение 1)\n",
    "distr = st.norm(0, 1) \n",
    "\n",
    "p_value = (1 - distr.cdf(abs(z_value))) * 2\n",
    "\n",
    "print('p-значение: ', p_value)\n",
    "\n",
    "if (p_value < alpha):\n",
    "    print(\"Отвергаем нулевую гипотезу: между долями есть значимая разница\")\n",
    "else:\n",
    "    print(\"Не получилось отвергнуть нулевую гипотезу, нет оснований считать доли разными\")\n",
    "\n",
    "print(\"Разница пропорций в датасетах: {0:.3f}\".format(difference))   "
   ]
  },
  {
   "cell_type": "markdown",
   "metadata": {},
   "source": [
    "### Гипотеза 2, о потери интереса после одной покупки при постоянных рассылках не опровергнута "
   ]
  },
  {
   "cell_type": "markdown",
   "metadata": {},
   "source": [
    "### Гипотеза о потери интереса после одной покупки при постоянных рассылках не опровергнута "
   ]
  },
  {
   "cell_type": "markdown",
   "metadata": {},
   "source": [
    "### Кластеризация клиентов. Сделаем срез с учётом бизнес правил. Возьмем открытия за последние на 6 месяцев (180 дней)"
   ]
  },
  {
   "cell_type": "code",
   "execution_count": 68,
   "metadata": {},
   "outputs": [],
   "source": [
    "from sklearn.cluster import KMeans\n",
    "from scipy.cluster.hierarchy import dendrogram, linkage\n",
    "from sklearn.preprocessing import StandardScaler"
   ]
  },
  {
   "cell_type": "code",
   "execution_count": 69,
   "metadata": {},
   "outputs": [
    {
     "name": "stdout",
     "output_type": "stream",
     "text": [
      "<class 'pandas.core.frame.DataFrame'>\n",
      "RangeIndex: 4759 entries, 0 to 4758\n",
      "Data columns (total 10 columns):\n",
      " #   Column        Non-Null Count  Dtype \n",
      "---  ------        --------------  ----- \n",
      " 0   сonsumer_id   4759 non-null   object\n",
      " 1   gender        4759 non-null   int64 \n",
      " 2   age           4759 non-null   int64 \n",
      " 3   campaign_cnt  4759 non-null   int64 \n",
      " 4   sent          4759 non-null   int64 \n",
      " 5   delivered     4759 non-null   int64 \n",
      " 6   opened        4759 non-null   int64 \n",
      " 7   clicked       4759 non-null   int64 \n",
      " 8   unsubscribed  4759 non-null   int64 \n",
      " 9   transactions  4759 non-null   int64 \n",
      "dtypes: int64(9), object(1)\n",
      "memory usage: 371.9+ KB\n"
     ]
    }
   ],
   "source": [
    "df_k = df.query('opened_date_hour > \"2020-02-01 00:00:00\"').\\\n",
    "groupby(['сonsumer_id', 'gender', 'age']).\\\n",
    "agg(campaign_cnt = ('campaign_delivery_id', 'count'), sent = ('sent','sum'), \n",
    "delivered = ('delivered','sum'), opened = ('opened','sum'), clicked = ('clicked','sum'),\n",
    "unsubscribed = ('unsubscribed','sum'), transactions = ('transactions','sum')).reset_index()\n",
    "\n",
    "df_k.info()"
   ]
  },
  {
   "cell_type": "code",
   "execution_count": 70,
   "metadata": {},
   "outputs": [],
   "source": [
    "# стандартизируем данные\n",
    "sc = StandardScaler() # создаём объект класса scaler (нормализатор)\n",
    "# обучаем нормализатор и преобразуем набор данных без учёта оттока, чтобы это не повлияло на модель\n",
    "X_sc = sc.fit_transform(df_k.drop(columns = (['сonsumer_id','unsubscribed']))) "
   ]
  },
  {
   "cell_type": "code",
   "execution_count": 71,
   "metadata": {},
   "outputs": [],
   "source": [
    "# построим матрицу расстояний\n",
    "linked = linkage(X_sc, method = 'ward')"
   ]
  },
  {
   "cell_type": "code",
   "execution_count": 72,
   "metadata": {},
   "outputs": [
    {
     "data": {
      "image/png": "[encoded data removed]",
      "text/plain": [
       "<Figure size 720x360 with 1 Axes>"
      ]
     },
     "metadata": {
      "needs_background": "light"
     },
     "output_type": "display_data"
    }
   ],
   "source": [
    "# визуализируем таблицу расстояний linked\n",
    "plt.figure(figsize=(10, 5))  \n",
    "dendrogram(linked, orientation='top')\n",
    "plt.title('Иерархия кластеров для клиентов')\n",
    "plt.show()"
   ]
  },
  {
   "cell_type": "code",
   "execution_count": 73,
   "metadata": {},
   "outputs": [],
   "source": [
    "# задаём модель k_means с числом кластеров 2\n",
    "km = KMeans(n_clusters = 2, random_state = 0) \n",
    "# прогнозируем кластеры для наблюдений\n",
    "labels = km.fit_predict(X_sc)\n",
    "\n",
    "# сохраняем метки кластера в поле нашего датасета\n",
    "df_k['cluster_km'] = labels"
   ]
  },
  {
   "cell_type": "code",
   "execution_count": 74,
   "metadata": {},
   "outputs": [
    {
     "data": {
      "text/html": [
       "<div>\n",
       "<style scoped>\n",
       "    .dataframe tbody tr th:only-of-type {\n",
       "        vertical-align: middle;\n",
       "    }\n",
       "\n",
       "    .dataframe tbody tr th {\n",
       "        vertical-align: top;\n",
       "    }\n",
       "\n",
       "    .dataframe thead th {\n",
       "        text-align: right;\n",
       "    }\n",
       "</style>\n",
       "<table border=\"1\" class=\"dataframe\">\n",
       "  <thead>\n",
       "    <tr style=\"text-align: right;\">\n",
       "      <th></th>\n",
       "      <th>gender</th>\n",
       "      <th>age</th>\n",
       "      <th>campaign_cnt</th>\n",
       "      <th>sent</th>\n",
       "      <th>delivered</th>\n",
       "      <th>opened</th>\n",
       "      <th>clicked</th>\n",
       "      <th>unsubscribed</th>\n",
       "      <th>transactions</th>\n",
       "    </tr>\n",
       "    <tr>\n",
       "      <th>cluster_km</th>\n",
       "      <th></th>\n",
       "      <th></th>\n",
       "      <th></th>\n",
       "      <th></th>\n",
       "      <th></th>\n",
       "      <th></th>\n",
       "      <th></th>\n",
       "      <th></th>\n",
       "      <th></th>\n",
       "    </tr>\n",
       "  </thead>\n",
       "  <tbody>\n",
       "    <tr>\n",
       "      <th>0</th>\n",
       "      <td>0.838</td>\n",
       "      <td>28.067</td>\n",
       "      <td>51.407</td>\n",
       "      <td>51.407</td>\n",
       "      <td>51.407</td>\n",
       "      <td>51.407</td>\n",
       "      <td>5.448</td>\n",
       "      <td>0.031</td>\n",
       "      <td>7.694</td>\n",
       "    </tr>\n",
       "    <tr>\n",
       "      <th>1</th>\n",
       "      <td>0.829</td>\n",
       "      <td>24.104</td>\n",
       "      <td>4.961</td>\n",
       "      <td>4.961</td>\n",
       "      <td>4.961</td>\n",
       "      <td>4.961</td>\n",
       "      <td>0.723</td>\n",
       "      <td>0.051</td>\n",
       "      <td>0.385</td>\n",
       "    </tr>\n",
       "  </tbody>\n",
       "</table>\n",
       "</div>"
      ],
      "text/plain": [
       "            gender    age  campaign_cnt   sent  delivered  opened  clicked  \\\n",
       "cluster_km                                                                   \n",
       "0            0.838 28.067        51.407 51.407     51.407  51.407    5.448   \n",
       "1            0.829 24.104         4.961  4.961      4.961   4.961    0.723   \n",
       "\n",
       "            unsubscribed  transactions  \n",
       "cluster_km                              \n",
       "0                  0.031         7.694  \n",
       "1                  0.051         0.385  "
      ]
     },
     "execution_count": 74,
     "metadata": {},
     "output_type": "execute_result"
    }
   ],
   "source": [
    "# выводим статистику по средним значениям наших признаков по кластеру\n",
    "df_k.groupby(['cluster_km']).mean().sort_values('unsubscribed') "
   ]
  },
  {
   "cell_type": "code",
   "execution_count": 78,
   "metadata": {},
   "outputs": [
    {
     "data": {
      "text/plain": [
       "1    4400\n",
       "0     359\n",
       "Name: cluster_km, dtype: int64"
      ]
     },
     "execution_count": 78,
     "metadata": {},
     "output_type": "execute_result"
    }
   ],
   "source": [
    "df_k['cluster_km'].value_counts()"
   ]
  },
  {
   "cell_type": "code",
   "execution_count": 82,
   "metadata": {},
   "outputs": [
    {
     "data": {
      "text/html": [
       "<div>\n",
       "<style scoped>\n",
       "    .dataframe tbody tr th:only-of-type {\n",
       "        vertical-align: middle;\n",
       "    }\n",
       "\n",
       "    .dataframe tbody tr th {\n",
       "        vertical-align: top;\n",
       "    }\n",
       "\n",
       "    .dataframe thead th {\n",
       "        text-align: right;\n",
       "    }\n",
       "</style>\n",
       "<table border=\"1\" class=\"dataframe\">\n",
       "  <thead>\n",
       "    <tr style=\"text-align: right;\">\n",
       "      <th></th>\n",
       "      <th>сonsumer_id</th>\n",
       "      <th>gender</th>\n",
       "      <th>age</th>\n",
       "      <th>campaign_cnt</th>\n",
       "      <th>sent</th>\n",
       "      <th>delivered</th>\n",
       "      <th>opened</th>\n",
       "      <th>clicked</th>\n",
       "      <th>unsubscribed</th>\n",
       "      <th>transactions</th>\n",
       "      <th>cluster_km</th>\n",
       "      <th>mean_cnt</th>\n",
       "      <th>recommended_cnt</th>\n",
       "      <th>more_less</th>\n",
       "    </tr>\n",
       "  </thead>\n",
       "  <tbody>\n",
       "    <tr>\n",
       "      <th>0</th>\n",
       "      <td>0049U5ZF5M0KFYTZ</td>\n",
       "      <td>1</td>\n",
       "      <td>39</td>\n",
       "      <td>2</td>\n",
       "      <td>2</td>\n",
       "      <td>2</td>\n",
       "      <td>2</td>\n",
       "      <td>1</td>\n",
       "      <td>0</td>\n",
       "      <td>0</td>\n",
       "      <td>1</td>\n",
       "      <td>3</td>\n",
       "      <td>0</td>\n",
       "      <td>Нет</td>\n",
       "    </tr>\n",
       "    <tr>\n",
       "      <th>1</th>\n",
       "      <td>006ZYWZO9M7FS9BT</td>\n",
       "      <td>1</td>\n",
       "      <td>33</td>\n",
       "      <td>9</td>\n",
       "      <td>9</td>\n",
       "      <td>9</td>\n",
       "      <td>9</td>\n",
       "      <td>0</td>\n",
       "      <td>0</td>\n",
       "      <td>0</td>\n",
       "      <td>1</td>\n",
       "      <td>3</td>\n",
       "      <td>0</td>\n",
       "      <td>Нет</td>\n",
       "    </tr>\n",
       "    <tr>\n",
       "      <th>2</th>\n",
       "      <td>00DCPBGJM1QIQXIW</td>\n",
       "      <td>2</td>\n",
       "      <td>0</td>\n",
       "      <td>11</td>\n",
       "      <td>11</td>\n",
       "      <td>11</td>\n",
       "      <td>11</td>\n",
       "      <td>3</td>\n",
       "      <td>0</td>\n",
       "      <td>0</td>\n",
       "      <td>1</td>\n",
       "      <td>3</td>\n",
       "      <td>0</td>\n",
       "      <td>Нет</td>\n",
       "    </tr>\n",
       "    <tr>\n",
       "      <th>3</th>\n",
       "      <td>00TI571R5PPZPVKN</td>\n",
       "      <td>3</td>\n",
       "      <td>0</td>\n",
       "      <td>4</td>\n",
       "      <td>4</td>\n",
       "      <td>4</td>\n",
       "      <td>4</td>\n",
       "      <td>0</td>\n",
       "      <td>0</td>\n",
       "      <td>0</td>\n",
       "      <td>1</td>\n",
       "      <td>3</td>\n",
       "      <td>0</td>\n",
       "      <td>Нет</td>\n",
       "    </tr>\n",
       "    <tr>\n",
       "      <th>4</th>\n",
       "      <td>00TTINX4Y1K2JHB1</td>\n",
       "      <td>1</td>\n",
       "      <td>16</td>\n",
       "      <td>3</td>\n",
       "      <td>3</td>\n",
       "      <td>3</td>\n",
       "      <td>3</td>\n",
       "      <td>0</td>\n",
       "      <td>0</td>\n",
       "      <td>0</td>\n",
       "      <td>1</td>\n",
       "      <td>3</td>\n",
       "      <td>0</td>\n",
       "      <td>Нет</td>\n",
       "    </tr>\n",
       "  </tbody>\n",
       "</table>\n",
       "</div>"
      ],
      "text/plain": [
       "        сonsumer_id  gender  age  campaign_cnt  sent  delivered  opened  \\\n",
       "0  0049U5ZF5M0KFYTZ       1   39             2     2          2       2   \n",
       "1  006ZYWZO9M7FS9BT       1   33             9     9          9       9   \n",
       "2  00DCPBGJM1QIQXIW       2    0            11    11         11      11   \n",
       "3  00TI571R5PPZPVKN       3    0             4     4          4       4   \n",
       "4  00TTINX4Y1K2JHB1       1   16             3     3          3       3   \n",
       "\n",
       "   clicked  unsubscribed  transactions  cluster_km  mean_cnt  recommended_cnt  \\\n",
       "0        1             0             0           1         3                0   \n",
       "1        0             0             0           1         3                0   \n",
       "2        3             0             0           1         3                0   \n",
       "3        0             0             0           1         3                0   \n",
       "4        0             0             0           1         3                0   \n",
       "\n",
       "  more_less  \n",
       "0       Нет  \n",
       "1       Нет  \n",
       "2       Нет  \n",
       "3       Нет  \n",
       "4       Нет  "
      ]
     },
     "execution_count": 82,
     "metadata": {},
     "output_type": "execute_result"
    }
   ],
   "source": [
    "df_k.head()"
   ]
  },
  {
   "cell_type": "code",
   "execution_count": 76,
   "metadata": {},
   "outputs": [
    {
     "data": {
      "text/html": [
       "<div>\n",
       "<style scoped>\n",
       "    .dataframe tbody tr th:only-of-type {\n",
       "        vertical-align: middle;\n",
       "    }\n",
       "\n",
       "    .dataframe tbody tr th {\n",
       "        vertical-align: top;\n",
       "    }\n",
       "\n",
       "    .dataframe thead th {\n",
       "        text-align: right;\n",
       "    }\n",
       "</style>\n",
       "<table border=\"1\" class=\"dataframe\">\n",
       "  <thead>\n",
       "    <tr style=\"text-align: right;\">\n",
       "      <th></th>\n",
       "      <th>gender</th>\n",
       "      <th>age</th>\n",
       "      <th>campaign_cnt</th>\n",
       "      <th>sent</th>\n",
       "      <th>delivered</th>\n",
       "      <th>opened</th>\n",
       "      <th>clicked</th>\n",
       "      <th>unsubscribed</th>\n",
       "      <th>transactions</th>\n",
       "    </tr>\n",
       "    <tr>\n",
       "      <th>cluster_km</th>\n",
       "      <th></th>\n",
       "      <th></th>\n",
       "      <th></th>\n",
       "      <th></th>\n",
       "      <th></th>\n",
       "      <th></th>\n",
       "      <th></th>\n",
       "      <th></th>\n",
       "      <th></th>\n",
       "    </tr>\n",
       "  </thead>\n",
       "  <tbody>\n",
       "    <tr>\n",
       "      <th>0</th>\n",
       "      <td>0.140</td>\n",
       "      <td>4.678</td>\n",
       "      <td>8.568</td>\n",
       "      <td>8.568</td>\n",
       "      <td>8.568</td>\n",
       "      <td>8.568</td>\n",
       "      <td>0.908</td>\n",
       "      <td>0.005</td>\n",
       "      <td>1.282</td>\n",
       "    </tr>\n",
       "    <tr>\n",
       "      <th>1</th>\n",
       "      <td>0.138</td>\n",
       "      <td>4.017</td>\n",
       "      <td>0.827</td>\n",
       "      <td>0.827</td>\n",
       "      <td>0.827</td>\n",
       "      <td>0.827</td>\n",
       "      <td>0.121</td>\n",
       "      <td>0.009</td>\n",
       "      <td>0.064</td>\n",
       "    </tr>\n",
       "  </tbody>\n",
       "</table>\n",
       "</div>"
      ],
      "text/plain": [
       "            gender   age  campaign_cnt  sent  delivered  opened  clicked  \\\n",
       "cluster_km                                                                 \n",
       "0            0.140 4.678         8.568 8.568      8.568   8.568    0.908   \n",
       "1            0.138 4.017         0.827 0.827      0.827   0.827    0.121   \n",
       "\n",
       "            unsubscribed  transactions  \n",
       "cluster_km                              \n",
       "0                  0.005         1.282  \n",
       "1                  0.009         0.064  "
      ]
     },
     "execution_count": 76,
     "metadata": {},
     "output_type": "execute_result"
    }
   ],
   "source": [
    "# вычислим среднее в месяц\n",
    "df_k.groupby(['cluster_km']).mean().sort_values('unsubscribed') / 6 "
   ]
  },
  {
   "cell_type": "code",
   "execution_count": 88,
   "metadata": {},
   "outputs": [
    {
     "name": "stdout",
     "output_type": "stream",
     "text": [
      "1    4400\n",
      "0     359\n",
      "Name: cluster_km, dtype: int64\n",
      "3    4759\n",
      "Name: mean_cnt, dtype: int64\n",
      "1    4400\n",
      "8     359\n",
      "Name: recommended_cnt, dtype: int64\n",
      "24    4400\n",
      "28     359\n",
      "Name: recommended_age, dtype: int64\n",
      "Нет    4400\n",
      "Да      359\n",
      "Name: more_less, dtype: int64\n"
     ]
    }
   ],
   "source": [
    "# добавим в датасет столбцы с средним и рекомендуемымы количеством рассылок \n",
    "def mean_cnt(row):\n",
    "    if row['cluster_km'] == 1 or row['cluster_km'] == 0:     \n",
    "        return 3\n",
    "\n",
    "def recommended_cnt(row):\n",
    "    if row['cluster_km'] == 1:\n",
    "        return 1\n",
    "    else:\n",
    "        return 8\n",
    "\n",
    "def recommended_age(row):\n",
    "    if row['cluster_km'] == 1:\n",
    "        return 24\n",
    "    else:\n",
    "        return 28    \n",
    "       \n",
    "# пришьём цикл к данным \n",
    "df_k['mean_cnt'] = df_k.apply(mean_cnt, axis = 1)\n",
    "df_k['recommended_cnt'] = df_k.apply(recommended_cnt, axis = 1)\n",
    "df_k['recommended_age'] = df_k.apply(recommended_age, axis = 1)\n",
    "\n",
    "def more_less(row):\n",
    "    if row['recommended_cnt'] > row['mean_cnt']:\n",
    "        return 'Да'\n",
    "    else:\n",
    "        return 'Нет'\n",
    "\n",
    "df_k['more_less'] = df_k.apply(more_less, axis = 1)\n",
    "\n",
    "# и проверим\n",
    "print(df_k['cluster_km'].value_counts())\n",
    "print(df_k['mean_cnt'].value_counts())\n",
    "print(df_k['recommended_cnt'].value_counts())\n",
    "print(df_k['recommended_age'].value_counts())\n",
    "print(df_k['more_less'].value_counts())"
   ]
  },
  {
   "cell_type": "code",
   "execution_count": 89,
   "metadata": {},
   "outputs": [],
   "source": [
    "df_k.to_excel(\"C:/Users/PC/проекты Яндекс/Сайд проекты/Adidas/customer_table.xlsx\")"
   ]
  },
  {
   "cell_type": "markdown",
   "metadata": {},
   "source": [
    "**Построим распределения признаков для кластеров**"
   ]
  },
  {
   "cell_type": "code",
   "execution_count": 77,
   "metadata": {},
   "outputs": [
    {
     "data": {
      "image/png": "[encoded data removed]",
      "text/plain": [
       "<Figure size 1440x1296 with 9 Axes>"
      ]
     },
     "metadata": {
      "needs_background": "light"
     },
     "output_type": "display_data"
    }
   ],
   "source": [
    "cols_var = ['gender', 'age', 'campaign_cnt', 'sent', 'delivered', 'opened', 'clicked', 'unsubscribed', 'transactions']\n",
    "for i, col in enumerate(cols_var):\n",
    "    plt.subplot(3, 3, i+1)\n",
    "    fig = plt.gcf()\n",
    "    fig.set_size_inches(20, 18)\n",
    "    sns.boxplot(data = df_k, x = col, y = 'cluster_km', orient = 'h')\n",
    "    plt.title('Распределение признака \\n'+ str(col))\n",
    "    plt.ylabel('Кластер')\n",
    "    plt.xlabel('')\n",
    "    plt.grid(axis = 'x')\n",
    "    plt.title('Распределение признака \\n'+ str(col))"
   ]
  },
  {
   "cell_type": "markdown",
   "metadata": {},
   "source": [
    "**Вывод:** \n",
    "\n",
    "Средние значения пользовательских кластеров активных пользователей за 6 месяцев (180 дней)\n",
    "\n",
    "`Кластер 0`\n",
    "- пол не имеет значения;\n",
    "- возраст 28 лет;\n",
    "- число компаний в месяц 8-9;\n",
    "- число кликов в месяц 9;\n",
    "- число покупок в месяц 1-2;\n",
    "- склонность к оттоку в 2 раза меньше, чем у кластера 1.\n",
    "\n",
    "`Кластер 1`\n",
    "- пол не имеет значения;\n",
    "- возраст 24 года;\n",
    "- число компаний в месяц 1;\n",
    "- число кликов в месяц 0-1;\n",
    "- число покупок в месяц 0;\n",
    "- склонность к оттоку в 2 раза больше, чем у кластера 0."
   ]
  },
  {
   "cell_type": "markdown",
   "metadata": {},
   "source": [
    "### Шаг. 4. Презентация и оформление проекта"
   ]
  },
  {
   "cell_type": "markdown",
   "metadata": {},
   "source": [
    "**Общие выводы:**\n",
    "\n",
    "- Отписавшихся менее 0,1%. Этот показатель вряд ли будет как-то влиять на количество рассылок;\n",
    "- 98% клиентов не открывали сообщения, которые им приходили;\n",
    "- Среднее количество рассылок в высокий сезон, 3-4 рассылки, в низкий - 3 рассылки;\n",
    "- Уровень транзакций стремится к единице без учёта оттока. Рассылки колеблются от 3х до 4х;\n",
    "- Уровень транзакций стремится к нулю с учётом оттока и уровень рассылок ближе к 3. Соответственно среднее количество рассылок и транзакций на отток не влияет;\n",
    "- Пик покупок на 2020-06 месяце скорее аномалия, чем нормальное поведение клиентов;\n",
    "- Мужской пол более склонен к покупкам, примерно на 10-20% больше, если уравнивать % соотношение полов 50/50; \n",
    "- Пол номер `2` покупают в 2 раза больше, чем кликают;\n",
    "\n",
    "Проверка гипотез:\n",
    "- Гипотеза 1, о \"пассивной отписке\" когда человеку показалось, что ему пишут слишком много пишут не опровергнута; \n",
    "- Гипотеза 2, о потери интереса после одной покупки при постоянных рассылках не опровергнута; \n",
    "\n",
    "Средние значения параметров кластеров активных пользователей за 6 месяцев (180 дней): \n",
    "\n",
    "`Кластер 0`\n",
    "- пол не имеет значения;\n",
    "- возраст 28 лет;\n",
    "- число компаний в месяц 8-9;\n",
    "- число кликов в месяц 9;\n",
    "- число покупок в месяц 1-2;\n",
    "- склонность к оттоку в 2 раза меньше, чем у кластера 1.\n",
    "\n",
    "`Кластер 1`\n",
    "- пол не имеет значения;\n",
    "- возраст 24 года;\n",
    "- число компаний в месяц 1;\n",
    "- число кликов в месяц 0-1;\n",
    "- число покупок в месяц 0;\n",
    "- склонность к оттоку в 2 раза больше, чем у кластера 0.\n"
   ]
  }
 ],
 "metadata": {
  "hide_input": false,
  "kernelspec": {
   "display_name": "Python 3",
   "language": "python",
   "name": "python3"
  },
  "language_info": {
   "codemirror_mode": {
    "name": "ipython",
    "version": 3
   },
   "file_extension": ".py",
   "mimetype": "text/x-python",
   "name": "python",
   "nbconvert_exporter": "python",
   "pygments_lexer": "ipython3",
   "version": "3.7.9"
  },
  "toc": {
   "base_numbering": 1,
   "nav_menu": {},
   "number_sections": true,
   "sideBar": true,
   "skip_h1_title": false,
   "title_cell": "Table of Contents",
   "title_sidebar": "Contents",
   "toc_cell": false,
   "toc_position": {},
   "toc_section_display": true,
   "toc_window_display": true
  }
 },
 "nbformat": 4,
 "nbformat_minor": 4
}
